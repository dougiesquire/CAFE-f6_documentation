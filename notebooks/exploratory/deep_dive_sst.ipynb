{
 "cells": [
  {
   "cell_type": "markdown",
   "id": "7945d76b-1c91-45df-aeb0-97611808e890",
   "metadata": {},
   "source": [
    "# Deep dive into SST skill\n",
    "There are a few features of the SST skill that I'd like to understand better:\n",
    "\n",
    "- Negative correlation in Western Tropical Pacific that substantially goes away over longer verification periods\n",
    "- Poor MSSS in CAFE-f6 in the Southern Ocean\n",
    "- \"Better\" initialised component of ACC for CAFE-f6 than other models, but \"worse\" MSSS_hist"
   ]
  },
  {
   "cell_type": "code",
   "execution_count": 1,
   "id": "5c887932-036d-4956-8264-76a29ab04c68",
   "metadata": {},
   "outputs": [],
   "source": [
    "import xarray as xr"
   ]
  },
  {
   "cell_type": "markdown",
   "id": "a8a80ddd-f477-470d-9fe6-d313e76b8ce2",
   "metadata": {},
   "source": [
    "## Some of the points above may be addressed by comparing our forecasts to their own analysis (CAFE60v1)"
   ]
  },
  {
   "cell_type": "code",
   "execution_count": null,
   "id": "1057d875-0921-4061-a38e-c5c5e6c01a16",
   "metadata": {},
   "outputs": [],
   "source": []
  }
 ],
 "metadata": {
  "kernelspec": {
   "display_name": "Python (forecast_analysis)",
   "language": "python",
   "name": "forecast_analysis"
  },
  "language_info": {
   "codemirror_mode": {
    "name": "ipython",
    "version": 3
   },
   "file_extension": ".py",
   "mimetype": "text/x-python",
   "name": "python",
   "nbconvert_exporter": "python",
   "pygments_lexer": "ipython3",
   "version": "3.9.10"
  }
 },
 "nbformat": 4,
 "nbformat_minor": 5
}
