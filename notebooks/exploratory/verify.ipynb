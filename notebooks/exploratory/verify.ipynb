{
 "cells": [
  {
   "cell_type": "markdown",
   "id": "6923c93d-af2f-469a-93a1-099059ef2994",
   "metadata": {},
   "source": [
    "# Developing scripts for skill assessment"
   ]
  },
  {
   "cell_type": "code",
   "execution_count": 2,
   "id": "66cf2e3c-4e25-452d-bd51-5773cf62d2b8",
   "metadata": {},
   "outputs": [
    {
     "name": "stderr",
     "output_type": "stream",
     "text": [
      "/g/data/xv83/users/ds0092/software/miniconda3/envs/forecast_analysis/lib/python3.9/site-packages/pyproj/__init__.py:89: UserWarning: pyproj unable to set database path.\n",
      "  _pyproj_global_context_initialize()\n"
     ]
    }
   ],
   "source": [
    "import cartopy\n",
    "import cartopy.crs as ccrs\n",
    "\n",
    "cartopy.config[\"pre_existing_data_dir\"] = \"../../data/cartopy-data\"\n",
    "cartopy.config[\"data_dir\"] = \"../../data/cartopy-data\"\n",
    "\n",
    "import numpy as np\n",
    "import xarray as xr\n",
    "\n",
    "from dask.distributed import Client\n",
    "\n",
    "import matplotlib.pyplot as plt\n",
    "\n",
    "from src import verify"
   ]
  },
  {
   "cell_type": "code",
   "execution_count": 3,
   "id": "84448d16-79d4-42d3-a2ff-c412f9956d80",
   "metadata": {},
   "outputs": [],
   "source": [
    "%load_ext autoreload\n",
    "%autoreload 2\n",
    "%load_ext lab_black"
   ]
  },
  {
   "cell_type": "markdown",
   "id": "f9c0c6b9-d3d2-4cb9-8732-7e20ac4aac10",
   "metadata": {},
   "source": [
    "# Run `verify` on a config"
   ]
  },
  {
   "cell_type": "code",
   "execution_count": 103,
   "id": "758cc0da-880e-44bc-8712-4354c6429409",
   "metadata": {
    "collapsed": true,
    "jupyter": {
     "outputs_hidden": true
    },
    "tags": []
   },
   "outputs": [
    {
     "ename": "KeyboardInterrupt",
     "evalue": "",
     "output_type": "error",
     "traceback": [
      "\u001b[0;31m---------------------------------------------------------------------------\u001b[0m",
      "\u001b[0;31mKeyboardInterrupt\u001b[0m                         Traceback (most recent call last)",
      "Input \u001b[0;32mIn [103]\u001b[0m, in \u001b[0;36m<cell line: 5>\u001b[0;34m()\u001b[0m\n\u001b[1;32m      2\u001b[0m save_dir \u001b[38;5;241m=\u001b[39m \u001b[38;5;124m\"\u001b[39m\u001b[38;5;124m../../data/skill/\u001b[39m\u001b[38;5;124m\"\u001b[39m\n\u001b[1;32m      4\u001b[0m \u001b[38;5;66;03m# with Client(processes=False) as client:\u001b[39;00m\n\u001b[0;32m----> 5\u001b[0m test \u001b[38;5;241m=\u001b[39m \u001b[43mverify\u001b[49m\u001b[43m(\u001b[49m\u001b[43mconfig\u001b[49m\u001b[43m,\u001b[49m\u001b[43m \u001b[49m\u001b[43msave_dir\u001b[49m\u001b[38;5;241;43m=\u001b[39;49m\u001b[43msave_dir\u001b[49m\u001b[43m,\u001b[49m\u001b[43m \u001b[49m\u001b[43msave\u001b[49m\u001b[38;5;241;43m=\u001b[39;49m\u001b[38;5;28;43;01mFalse\u001b[39;49;00m\u001b[43m)\u001b[49m\n",
      "File \u001b[0;32m/g/data/xv83/users/ds0092/active_projects/Squire_2022_CAFE-f6/src/verify.py:585\u001b[0m, in \u001b[0;36mverify\u001b[0;34m(config, save_dir, save)\u001b[0m\n\u001b[1;32m    582\u001b[0m     references\u001b[38;5;241m.\u001b[39mappend(historical)\n\u001b[1;32m    584\u001b[0m logger\u001b[38;5;241m.\u001b[39minfo(\u001b[38;5;124mf\u001b[39m\u001b[38;5;124m\"\u001b[39m\u001b[38;5;124mProcessing \u001b[39m\u001b[38;5;132;01m{\u001b[39;00midentifier\u001b[38;5;132;01m}\u001b[39;00m\u001b[38;5;124m\"\u001b[39m)\n\u001b[0;32m--> 585\u001b[0m ds \u001b[38;5;241m=\u001b[39m \u001b[43mcalculate_metric\u001b[49m\u001b[43m(\u001b[49m\u001b[43mhindcast\u001b[49m\u001b[43m,\u001b[49m\u001b[43m \u001b[49m\u001b[38;5;241;43m*\u001b[39;49m\u001b[43mreferences\u001b[49m\u001b[43m,\u001b[49m\u001b[43m \u001b[49m\u001b[38;5;241;43m*\u001b[39;49m\u001b[38;5;241;43m*\u001b[39;49m\u001b[43mparams\u001b[49m\u001b[43m[\u001b[49m\u001b[38;5;124;43m\"\u001b[39;49m\u001b[38;5;124;43mverify\u001b[39;49m\u001b[38;5;124;43m\"\u001b[39;49m\u001b[43m]\u001b[49m\u001b[43m)\u001b[49m\n\u001b[1;32m    587\u001b[0m prepared\u001b[38;5;241m.\u001b[39mappend(ds)\n\u001b[1;32m    588\u001b[0m \u001b[38;5;28;01mif\u001b[39;00m save:\n",
      "File \u001b[0;32m/g/data/xv83/users/ds0092/active_projects/Squire_2022_CAFE-f6/src/verify.py:504\u001b[0m, in \u001b[0;36mcalculate_metric\u001b[0;34m(hindcast, metric, metric_kwargs, significance, transform, alpha, *references)\u001b[0m\n\u001b[1;32m    501\u001b[0m \u001b[38;5;28;01mif\u001b[39;00m transform \u001b[38;5;129;01mis\u001b[39;00m \u001b[38;5;129;01mnot\u001b[39;00m \u001b[38;5;28;01mNone\u001b[39;00m:\n\u001b[1;32m    502\u001b[0m     transform \u001b[38;5;241m=\u001b[39m \u001b[38;5;28mgetattr\u001b[39m(sys\u001b[38;5;241m.\u001b[39mmodules[\u001b[38;5;18m__name__\u001b[39m], transform)\n\u001b[0;32m--> 504\u001b[0m skill \u001b[38;5;241m=\u001b[39m \u001b[43m_calculate_metric_from_timeseries\u001b[49m\u001b[43m(\u001b[49m\n\u001b[1;32m    505\u001b[0m \u001b[43m    \u001b[49m\u001b[43mhindcast_verif_times\u001b[49m\u001b[43m,\u001b[49m\n\u001b[1;32m    506\u001b[0m \u001b[43m    \u001b[49m\u001b[38;5;241;43m*\u001b[39;49m\u001b[43mreferences_verif_times\u001b[49m\u001b[43m,\u001b[49m\n\u001b[1;32m    507\u001b[0m \u001b[43m    \u001b[49m\u001b[43mmetric\u001b[49m\u001b[38;5;241;43m=\u001b[39;49m\u001b[43mmetric\u001b[49m\u001b[43m,\u001b[49m\n\u001b[1;32m    508\u001b[0m \u001b[43m    \u001b[49m\u001b[43mmetric_kwargs\u001b[49m\u001b[38;5;241;43m=\u001b[39;49m\u001b[43mmetric_kwargs\u001b[49m\u001b[43m,\u001b[49m\n\u001b[1;32m    509\u001b[0m \u001b[43m    \u001b[49m\u001b[43msignificance\u001b[49m\u001b[38;5;241;43m=\u001b[39;49m\u001b[43msignificance\u001b[49m\u001b[43m,\u001b[49m\n\u001b[1;32m    510\u001b[0m \u001b[43m    \u001b[49m\u001b[43mtransform\u001b[49m\u001b[38;5;241;43m=\u001b[39;49m\u001b[43mtransform\u001b[49m\u001b[43m,\u001b[49m\n\u001b[1;32m    511\u001b[0m \u001b[43m    \u001b[49m\u001b[43malpha\u001b[49m\u001b[38;5;241;43m=\u001b[39;49m\u001b[43malpha\u001b[49m\u001b[43m,\u001b[49m\n\u001b[1;32m    512\u001b[0m \u001b[43m\u001b[49m\u001b[43m)\u001b[49m\n\u001b[1;32m    514\u001b[0m \u001b[38;5;66;03m# Add verification period to attributes\u001b[39;00m\n\u001b[1;32m    515\u001b[0m skill\u001b[38;5;241m.\u001b[39mattrs[\u001b[38;5;124m\"\u001b[39m\u001b[38;5;124mverification period start\u001b[39m\u001b[38;5;124m\"\u001b[39m] \u001b[38;5;241m=\u001b[39m \u001b[38;5;124mf\u001b[39m\u001b[38;5;124m\"\u001b[39m\u001b[38;5;132;01m{\u001b[39;00mverif_period[\u001b[38;5;241m0\u001b[39m]\u001b[38;5;132;01m}\u001b[39;00m\u001b[38;5;124m\"\u001b[39m\n",
      "File \u001b[0;32m/g/data/xv83/users/ds0092/active_projects/Squire_2022_CAFE-f6/src/verify.py:383\u001b[0m, in \u001b[0;36m_calculate_metric_from_timeseries\u001b[0;34m(metric, metric_kwargs, significance, transform, alpha, *timeseries)\u001b[0m\n\u001b[1;32m    367\u001b[0m \u001b[38;5;28;01mdef\u001b[39;00m \u001b[38;5;21m_calculate_metric_from_timeseries\u001b[39m(\n\u001b[1;32m    368\u001b[0m     \u001b[38;5;241m*\u001b[39mtimeseries,\n\u001b[1;32m    369\u001b[0m     metric,\n\u001b[0;32m   (...)\u001b[0m\n\u001b[1;32m    373\u001b[0m     alpha\u001b[38;5;241m=\u001b[39m\u001b[38;5;241m0.1\u001b[39m,\n\u001b[1;32m    374\u001b[0m ):\n\u001b[1;32m    375\u001b[0m     \u001b[38;5;124;03m\"\"\"\u001b[39;00m\n\u001b[1;32m    376\u001b[0m \u001b[38;5;124;03m    Calculate a skill metric from the provided timeseries\u001b[39;00m\n\u001b[1;32m    377\u001b[0m \n\u001b[0;32m   (...)\u001b[0m\n\u001b[1;32m    381\u001b[0m \u001b[38;5;124;03m    no_skill_value--defining the p-values--is less than or equal to alpha.)\u001b[39;00m\n\u001b[1;32m    382\u001b[0m \u001b[38;5;124;03m    \"\"\"\u001b[39;00m\n\u001b[0;32m--> 383\u001b[0m     skill \u001b[38;5;241m=\u001b[39m \u001b[43mmetric\u001b[49m\u001b[43m(\u001b[49m\u001b[38;5;241;43m*\u001b[39;49m\u001b[43mtimeseries\u001b[49m\u001b[43m,\u001b[49m\u001b[43m \u001b[49m\u001b[38;5;241;43m*\u001b[39;49m\u001b[38;5;241;43m*\u001b[39;49m\u001b[43mmetric_kwargs\u001b[49m\u001b[43m)\u001b[49m\n\u001b[1;32m    385\u001b[0m     \u001b[38;5;28;01mif\u001b[39;00m significance:\n\u001b[1;32m    386\u001b[0m         bootstrapped_skill \u001b[38;5;241m=\u001b[39m metric(\n\u001b[1;32m    387\u001b[0m             \u001b[38;5;241m*\u001b[39miterative_blocked_bootstrap(\n\u001b[1;32m    388\u001b[0m                 \u001b[38;5;241m*\u001b[39mtimeseries,\n\u001b[0;32m   (...)\u001b[0m\n\u001b[1;32m    392\u001b[0m             \u001b[38;5;241m*\u001b[39m\u001b[38;5;241m*\u001b[39mmetric_kwargs,\n\u001b[1;32m    393\u001b[0m         )\n",
      "File \u001b[0;32m/g/data/xv83/users/ds0092/active_projects/Squire_2022_CAFE-f6/src/verify.py:67\u001b[0m, in \u001b[0;36macc_initialised\u001b[0;34m(hcst, obsv, hist)\u001b[0m\n\u001b[1;32m     65\u001b[0m rXY \u001b[38;5;241m=\u001b[39m xs\u001b[38;5;241m.\u001b[39mpearson_r(hcst\u001b[38;5;241m.\u001b[39mmean(\u001b[38;5;124m\"\u001b[39m\u001b[38;5;124mmember\u001b[39m\u001b[38;5;124m\"\u001b[39m), obsv, dim\u001b[38;5;241m=\u001b[39m\u001b[38;5;124m\"\u001b[39m\u001b[38;5;124mtime\u001b[39m\u001b[38;5;124m\"\u001b[39m)\n\u001b[1;32m     66\u001b[0m rXU \u001b[38;5;241m=\u001b[39m xs\u001b[38;5;241m.\u001b[39mpearson_r(obsv, hist\u001b[38;5;241m.\u001b[39mmean(\u001b[38;5;124m\"\u001b[39m\u001b[38;5;124mmember\u001b[39m\u001b[38;5;124m\"\u001b[39m), dim\u001b[38;5;241m=\u001b[39m\u001b[38;5;124m\"\u001b[39m\u001b[38;5;124mtime\u001b[39m\u001b[38;5;124m\"\u001b[39m)\n\u001b[0;32m---> 67\u001b[0m rYU \u001b[38;5;241m=\u001b[39m \u001b[43mxs\u001b[49m\u001b[38;5;241;43m.\u001b[39;49m\u001b[43mpearson_r\u001b[49m\u001b[43m(\u001b[49m\u001b[43mhcst\u001b[49m\u001b[38;5;241;43m.\u001b[39;49m\u001b[43mmean\u001b[49m\u001b[43m(\u001b[49m\u001b[38;5;124;43m\"\u001b[39;49m\u001b[38;5;124;43mmember\u001b[39;49m\u001b[38;5;124;43m\"\u001b[39;49m\u001b[43m)\u001b[49m\u001b[43m,\u001b[49m\u001b[43m \u001b[49m\u001b[43mhist\u001b[49m\u001b[38;5;241;43m.\u001b[39;49m\u001b[43mmean\u001b[49m\u001b[43m(\u001b[49m\u001b[38;5;124;43m\"\u001b[39;49m\u001b[38;5;124;43mmember\u001b[39;49m\u001b[38;5;124;43m\"\u001b[39;49m\u001b[43m)\u001b[49m\u001b[43m,\u001b[49m\u001b[43m \u001b[49m\u001b[43mdim\u001b[49m\u001b[38;5;241;43m=\u001b[39;49m\u001b[38;5;124;43m\"\u001b[39;49m\u001b[38;5;124;43mtime\u001b[39;49m\u001b[38;5;124;43m\"\u001b[39;49m\u001b[43m)\u001b[49m\n\u001b[1;32m     68\u001b[0m θ \u001b[38;5;241m=\u001b[39m xr\u001b[38;5;241m.\u001b[39mwhere(rYU \u001b[38;5;241m<\u001b[39m \u001b[38;5;241m0\u001b[39m, \u001b[38;5;241m0\u001b[39m, \u001b[38;5;241m1\u001b[39m, keep_attrs\u001b[38;5;241m=\u001b[39m\u001b[38;5;28;01mFalse\u001b[39;00m)\n\u001b[1;32m     69\u001b[0m ru \u001b[38;5;241m=\u001b[39m θ \u001b[38;5;241m*\u001b[39m rXU \u001b[38;5;241m*\u001b[39m rYU\n",
      "File \u001b[0;32m/g/data/xv83/users/ds0092/software/miniconda3/envs/forecast_analysis/lib/python3.9/site-packages/xskillscore/core/deterministic.py:206\u001b[0m, in \u001b[0;36mpearson_r\u001b[0;34m(a, b, dim, weights, skipna, keep_attrs)\u001b[0m\n\u001b[1;32m    202\u001b[0m weights \u001b[38;5;241m=\u001b[39m _preprocess_weights(a, dim, new_dim, weights)\n\u001b[1;32m    204\u001b[0m input_core_dims \u001b[38;5;241m=\u001b[39m _determine_input_core_dims(new_dim, weights)\n\u001b[0;32m--> 206\u001b[0m \u001b[38;5;28;01mreturn\u001b[39;00m \u001b[43mxr\u001b[49m\u001b[38;5;241;43m.\u001b[39;49m\u001b[43mapply_ufunc\u001b[49m\u001b[43m(\u001b[49m\n\u001b[1;32m    207\u001b[0m \u001b[43m    \u001b[49m\u001b[43m_pearson_r\u001b[49m\u001b[43m,\u001b[49m\n\u001b[1;32m    208\u001b[0m \u001b[43m    \u001b[49m\u001b[43ma\u001b[49m\u001b[43m,\u001b[49m\n\u001b[1;32m    209\u001b[0m \u001b[43m    \u001b[49m\u001b[43mb\u001b[49m\u001b[43m,\u001b[49m\n\u001b[1;32m    210\u001b[0m \u001b[43m    \u001b[49m\u001b[43mweights\u001b[49m\u001b[43m,\u001b[49m\n\u001b[1;32m    211\u001b[0m \u001b[43m    \u001b[49m\u001b[43minput_core_dims\u001b[49m\u001b[38;5;241;43m=\u001b[39;49m\u001b[43minput_core_dims\u001b[49m\u001b[43m,\u001b[49m\n\u001b[1;32m    212\u001b[0m \u001b[43m    \u001b[49m\u001b[43mkwargs\u001b[49m\u001b[38;5;241;43m=\u001b[39;49m\u001b[43m{\u001b[49m\u001b[38;5;124;43m\"\u001b[39;49m\u001b[38;5;124;43maxis\u001b[39;49m\u001b[38;5;124;43m\"\u001b[39;49m\u001b[43m:\u001b[49m\u001b[43m \u001b[49m\u001b[38;5;241;43m-\u001b[39;49m\u001b[38;5;241;43m1\u001b[39;49m\u001b[43m,\u001b[49m\u001b[43m \u001b[49m\u001b[38;5;124;43m\"\u001b[39;49m\u001b[38;5;124;43mskipna\u001b[39;49m\u001b[38;5;124;43m\"\u001b[39;49m\u001b[43m:\u001b[49m\u001b[43m \u001b[49m\u001b[43mskipna\u001b[49m\u001b[43m}\u001b[49m\u001b[43m,\u001b[49m\n\u001b[1;32m    213\u001b[0m \u001b[43m    \u001b[49m\u001b[43mdask\u001b[49m\u001b[38;5;241;43m=\u001b[39;49m\u001b[38;5;124;43m\"\u001b[39;49m\u001b[38;5;124;43mparallelized\u001b[39;49m\u001b[38;5;124;43m\"\u001b[39;49m\u001b[43m,\u001b[49m\n\u001b[1;32m    214\u001b[0m \u001b[43m    \u001b[49m\u001b[43moutput_dtypes\u001b[49m\u001b[38;5;241;43m=\u001b[39;49m\u001b[43m[\u001b[49m\u001b[38;5;28;43mfloat\u001b[39;49m\u001b[43m]\u001b[49m\u001b[43m,\u001b[49m\n\u001b[1;32m    215\u001b[0m \u001b[43m    \u001b[49m\u001b[43mkeep_attrs\u001b[49m\u001b[38;5;241;43m=\u001b[39;49m\u001b[43mkeep_attrs\u001b[49m\u001b[43m,\u001b[49m\n\u001b[1;32m    216\u001b[0m \u001b[43m\u001b[49m\u001b[43m)\u001b[49m\n",
      "File \u001b[0;32m/g/data/xv83/users/ds0092/software/miniconda3/envs/forecast_analysis/lib/python3.9/site-packages/xarray/core/computation.py:1147\u001b[0m, in \u001b[0;36mapply_ufunc\u001b[0;34m(func, input_core_dims, output_core_dims, exclude_dims, vectorize, join, dataset_join, dataset_fill_value, keep_attrs, kwargs, dask, output_dtypes, output_sizes, meta, dask_gufunc_kwargs, *args)\u001b[0m\n\u001b[1;32m   1145\u001b[0m \u001b[38;5;66;03m# feed datasets apply_variable_ufunc through apply_dataset_vfunc\u001b[39;00m\n\u001b[1;32m   1146\u001b[0m \u001b[38;5;28;01melif\u001b[39;00m \u001b[38;5;28many\u001b[39m(is_dict_like(a) \u001b[38;5;28;01mfor\u001b[39;00m a \u001b[38;5;129;01min\u001b[39;00m args):\n\u001b[0;32m-> 1147\u001b[0m     \u001b[38;5;28;01mreturn\u001b[39;00m \u001b[43mapply_dataset_vfunc\u001b[49m\u001b[43m(\u001b[49m\n\u001b[1;32m   1148\u001b[0m \u001b[43m        \u001b[49m\u001b[43mvariables_vfunc\u001b[49m\u001b[43m,\u001b[49m\n\u001b[1;32m   1149\u001b[0m \u001b[43m        \u001b[49m\u001b[38;5;241;43m*\u001b[39;49m\u001b[43margs\u001b[49m\u001b[43m,\u001b[49m\n\u001b[1;32m   1150\u001b[0m \u001b[43m        \u001b[49m\u001b[43msignature\u001b[49m\u001b[38;5;241;43m=\u001b[39;49m\u001b[43msignature\u001b[49m\u001b[43m,\u001b[49m\n\u001b[1;32m   1151\u001b[0m \u001b[43m        \u001b[49m\u001b[43mjoin\u001b[49m\u001b[38;5;241;43m=\u001b[39;49m\u001b[43mjoin\u001b[49m\u001b[43m,\u001b[49m\n\u001b[1;32m   1152\u001b[0m \u001b[43m        \u001b[49m\u001b[43mexclude_dims\u001b[49m\u001b[38;5;241;43m=\u001b[39;49m\u001b[43mexclude_dims\u001b[49m\u001b[43m,\u001b[49m\n\u001b[1;32m   1153\u001b[0m \u001b[43m        \u001b[49m\u001b[43mdataset_join\u001b[49m\u001b[38;5;241;43m=\u001b[39;49m\u001b[43mdataset_join\u001b[49m\u001b[43m,\u001b[49m\n\u001b[1;32m   1154\u001b[0m \u001b[43m        \u001b[49m\u001b[43mfill_value\u001b[49m\u001b[38;5;241;43m=\u001b[39;49m\u001b[43mdataset_fill_value\u001b[49m\u001b[43m,\u001b[49m\n\u001b[1;32m   1155\u001b[0m \u001b[43m        \u001b[49m\u001b[43mkeep_attrs\u001b[49m\u001b[38;5;241;43m=\u001b[39;49m\u001b[43mkeep_attrs\u001b[49m\u001b[43m,\u001b[49m\n\u001b[1;32m   1156\u001b[0m \u001b[43m    \u001b[49m\u001b[43m)\u001b[49m\n\u001b[1;32m   1157\u001b[0m \u001b[38;5;66;03m# feed DataArray apply_variable_ufunc through apply_dataarray_vfunc\u001b[39;00m\n\u001b[1;32m   1158\u001b[0m \u001b[38;5;28;01melif\u001b[39;00m \u001b[38;5;28many\u001b[39m(\u001b[38;5;28misinstance\u001b[39m(a, DataArray) \u001b[38;5;28;01mfor\u001b[39;00m a \u001b[38;5;129;01min\u001b[39;00m args):\n",
      "File \u001b[0;32m/g/data/xv83/users/ds0092/software/miniconda3/envs/forecast_analysis/lib/python3.9/site-packages/xarray/core/computation.py:436\u001b[0m, in \u001b[0;36mapply_dataset_vfunc\u001b[0;34m(func, signature, join, dataset_join, fill_value, exclude_dims, keep_attrs, *args)\u001b[0m\n\u001b[1;32m    431\u001b[0m \u001b[38;5;28;01mif\u001b[39;00m \u001b[38;5;28mlen\u001b[39m(args) \u001b[38;5;241m>\u001b[39m \u001b[38;5;241m1\u001b[39m:\n\u001b[1;32m    432\u001b[0m     args \u001b[38;5;241m=\u001b[39m deep_align(\n\u001b[1;32m    433\u001b[0m         args, join\u001b[38;5;241m=\u001b[39mjoin, copy\u001b[38;5;241m=\u001b[39m\u001b[38;5;28;01mFalse\u001b[39;00m, exclude\u001b[38;5;241m=\u001b[39mexclude_dims, raise_on_invalid\u001b[38;5;241m=\u001b[39m\u001b[38;5;28;01mFalse\u001b[39;00m\n\u001b[1;32m    434\u001b[0m     )\n\u001b[0;32m--> 436\u001b[0m list_of_coords \u001b[38;5;241m=\u001b[39m \u001b[43mbuild_output_coords\u001b[49m\u001b[43m(\u001b[49m\n\u001b[1;32m    437\u001b[0m \u001b[43m    \u001b[49m\u001b[43margs\u001b[49m\u001b[43m,\u001b[49m\u001b[43m \u001b[49m\u001b[43msignature\u001b[49m\u001b[43m,\u001b[49m\u001b[43m \u001b[49m\u001b[43mexclude_dims\u001b[49m\u001b[43m,\u001b[49m\u001b[43m \u001b[49m\u001b[43mcombine_attrs\u001b[49m\u001b[38;5;241;43m=\u001b[39;49m\u001b[43mkeep_attrs\u001b[49m\n\u001b[1;32m    438\u001b[0m \u001b[43m\u001b[49m\u001b[43m)\u001b[49m\n\u001b[1;32m    439\u001b[0m args \u001b[38;5;241m=\u001b[39m [\u001b[38;5;28mgetattr\u001b[39m(arg, \u001b[38;5;124m\"\u001b[39m\u001b[38;5;124mdata_vars\u001b[39m\u001b[38;5;124m\"\u001b[39m, arg) \u001b[38;5;28;01mfor\u001b[39;00m arg \u001b[38;5;129;01min\u001b[39;00m args]\n\u001b[1;32m    441\u001b[0m result_vars \u001b[38;5;241m=\u001b[39m apply_dict_of_variables_vfunc(\n\u001b[1;32m    442\u001b[0m     func, \u001b[38;5;241m*\u001b[39margs, signature\u001b[38;5;241m=\u001b[39msignature, join\u001b[38;5;241m=\u001b[39mdataset_join, fill_value\u001b[38;5;241m=\u001b[39mfill_value\n\u001b[1;32m    443\u001b[0m )\n",
      "File \u001b[0;32m/g/data/xv83/users/ds0092/software/miniconda3/envs/forecast_analysis/lib/python3.9/site-packages/xarray/core/computation.py:238\u001b[0m, in \u001b[0;36mbuild_output_coords\u001b[0;34m(args, signature, exclude_dims, combine_attrs)\u001b[0m\n\u001b[1;32m    235\u001b[0m     merged_vars \u001b[38;5;241m=\u001b[39m \u001b[38;5;28mdict\u001b[39m(unpacked_coords\u001b[38;5;241m.\u001b[39mvariables)\n\u001b[1;32m    236\u001b[0m \u001b[38;5;28;01melse\u001b[39;00m:\n\u001b[1;32m    237\u001b[0m     \u001b[38;5;66;03m# TODO: save these merged indexes, instead of re-computing them later\u001b[39;00m\n\u001b[0;32m--> 238\u001b[0m     merged_vars, unused_indexes \u001b[38;5;241m=\u001b[39m \u001b[43mmerge_coordinates_without_align\u001b[49m\u001b[43m(\u001b[49m\n\u001b[1;32m    239\u001b[0m \u001b[43m        \u001b[49m\u001b[43mcoords_list\u001b[49m\u001b[43m,\u001b[49m\u001b[43m \u001b[49m\u001b[43mexclude_dims\u001b[49m\u001b[38;5;241;43m=\u001b[39;49m\u001b[43mexclude_dims\u001b[49m\u001b[43m,\u001b[49m\u001b[43m \u001b[49m\u001b[43mcombine_attrs\u001b[49m\u001b[38;5;241;43m=\u001b[39;49m\u001b[43mcombine_attrs\u001b[49m\n\u001b[1;32m    240\u001b[0m \u001b[43m    \u001b[49m\u001b[43m)\u001b[49m\n\u001b[1;32m    242\u001b[0m output_coords \u001b[38;5;241m=\u001b[39m []\n\u001b[1;32m    243\u001b[0m \u001b[38;5;28;01mfor\u001b[39;00m output_dims \u001b[38;5;129;01min\u001b[39;00m signature\u001b[38;5;241m.\u001b[39moutput_core_dims:\n",
      "File \u001b[0;32m/g/data/xv83/users/ds0092/software/miniconda3/envs/forecast_analysis/lib/python3.9/site-packages/xarray/core/merge.py:345\u001b[0m, in \u001b[0;36mmerge_coordinates_without_align\u001b[0;34m(objects, prioritized, exclude_dims, combine_attrs)\u001b[0m\n\u001b[1;32m    342\u001b[0m \u001b[38;5;28;01melse\u001b[39;00m:\n\u001b[1;32m    343\u001b[0m     filtered \u001b[38;5;241m=\u001b[39m collected\n\u001b[0;32m--> 345\u001b[0m \u001b[38;5;28;01mreturn\u001b[39;00m \u001b[43mmerge_collected\u001b[49m\u001b[43m(\u001b[49m\u001b[43mfiltered\u001b[49m\u001b[43m,\u001b[49m\u001b[43m \u001b[49m\u001b[43mprioritized\u001b[49m\u001b[43m,\u001b[49m\u001b[43m \u001b[49m\u001b[43mcombine_attrs\u001b[49m\u001b[38;5;241;43m=\u001b[39;49m\u001b[43mcombine_attrs\u001b[49m\u001b[43m)\u001b[49m\n",
      "File \u001b[0;32m/g/data/xv83/users/ds0092/software/miniconda3/envs/forecast_analysis/lib/python3.9/site-packages/xarray/core/merge.py:237\u001b[0m, in \u001b[0;36mmerge_collected\u001b[0;34m(grouped, prioritized, compat, combine_attrs)\u001b[0m\n\u001b[1;32m    235\u001b[0m variables \u001b[38;5;241m=\u001b[39m [variable \u001b[38;5;28;01mfor\u001b[39;00m variable, _ \u001b[38;5;129;01min\u001b[39;00m elements_list]\n\u001b[1;32m    236\u001b[0m \u001b[38;5;28;01mtry\u001b[39;00m:\n\u001b[0;32m--> 237\u001b[0m     merged_vars[name] \u001b[38;5;241m=\u001b[39m \u001b[43munique_variable\u001b[49m\u001b[43m(\u001b[49m\u001b[43mname\u001b[49m\u001b[43m,\u001b[49m\u001b[43m \u001b[49m\u001b[43mvariables\u001b[49m\u001b[43m,\u001b[49m\u001b[43m \u001b[49m\u001b[43mcompat\u001b[49m\u001b[43m)\u001b[49m\n\u001b[1;32m    238\u001b[0m \u001b[38;5;28;01mexcept\u001b[39;00m MergeError:\n\u001b[1;32m    239\u001b[0m     \u001b[38;5;28;01mif\u001b[39;00m compat \u001b[38;5;241m!=\u001b[39m \u001b[38;5;124m\"\u001b[39m\u001b[38;5;124mminimal\u001b[39m\u001b[38;5;124m\"\u001b[39m:\n\u001b[1;32m    240\u001b[0m         \u001b[38;5;66;03m# we need more than \"minimal\" compatibility (for which\u001b[39;00m\n\u001b[1;32m    241\u001b[0m         \u001b[38;5;66;03m# we drop conflicting coordinates)\u001b[39;00m\n",
      "File \u001b[0;32m/g/data/xv83/users/ds0092/software/miniconda3/envs/forecast_analysis/lib/python3.9/site-packages/xarray/core/merge.py:143\u001b[0m, in \u001b[0;36munique_variable\u001b[0;34m(name, variables, compat, equals)\u001b[0m\n\u001b[1;32m    141\u001b[0m out \u001b[38;5;241m=\u001b[39m out\u001b[38;5;241m.\u001b[39mcompute()\n\u001b[1;32m    142\u001b[0m \u001b[38;5;28;01mfor\u001b[39;00m var \u001b[38;5;129;01min\u001b[39;00m variables[\u001b[38;5;241m1\u001b[39m:]:\n\u001b[0;32m--> 143\u001b[0m     equals \u001b[38;5;241m=\u001b[39m \u001b[38;5;28;43mgetattr\u001b[39;49m\u001b[43m(\u001b[49m\u001b[43mout\u001b[49m\u001b[43m,\u001b[49m\u001b[43m \u001b[49m\u001b[43mcompat\u001b[49m\u001b[43m)\u001b[49m\u001b[43m(\u001b[49m\u001b[43mvar\u001b[49m\u001b[43m)\u001b[49m\n\u001b[1;32m    144\u001b[0m     \u001b[38;5;28;01mif\u001b[39;00m \u001b[38;5;129;01mnot\u001b[39;00m equals:\n\u001b[1;32m    145\u001b[0m         \u001b[38;5;28;01mbreak\u001b[39;00m\n",
      "File \u001b[0;32m/g/data/xv83/users/ds0092/software/miniconda3/envs/forecast_analysis/lib/python3.9/site-packages/xarray/core/variable.py:1953\u001b[0m, in \u001b[0;36mVariable.broadcast_equals\u001b[0;34m(self, other, equiv)\u001b[0m\n\u001b[1;32m   1951\u001b[0m \u001b[38;5;28;01mexcept\u001b[39;00m (\u001b[38;5;167;01mValueError\u001b[39;00m, \u001b[38;5;167;01mAttributeError\u001b[39;00m):\n\u001b[1;32m   1952\u001b[0m     \u001b[38;5;28;01mreturn\u001b[39;00m \u001b[38;5;28;01mFalse\u001b[39;00m\n\u001b[0;32m-> 1953\u001b[0m \u001b[38;5;28;01mreturn\u001b[39;00m \u001b[38;5;28;43mself\u001b[39;49m\u001b[38;5;241;43m.\u001b[39;49m\u001b[43mequals\u001b[49m\u001b[43m(\u001b[49m\u001b[43mother\u001b[49m\u001b[43m,\u001b[49m\u001b[43m \u001b[49m\u001b[43mequiv\u001b[49m\u001b[38;5;241;43m=\u001b[39;49m\u001b[43mequiv\u001b[49m\u001b[43m)\u001b[49m\n",
      "File \u001b[0;32m/g/data/xv83/users/ds0092/software/miniconda3/envs/forecast_analysis/lib/python3.9/site-packages/xarray/core/variable.py:1937\u001b[0m, in \u001b[0;36mVariable.equals\u001b[0;34m(self, other, equiv)\u001b[0m\n\u001b[1;32m   1934\u001b[0m other \u001b[38;5;241m=\u001b[39m \u001b[38;5;28mgetattr\u001b[39m(other, \u001b[38;5;124m\"\u001b[39m\u001b[38;5;124mvariable\u001b[39m\u001b[38;5;124m\"\u001b[39m, other)\n\u001b[1;32m   1935\u001b[0m \u001b[38;5;28;01mtry\u001b[39;00m:\n\u001b[1;32m   1936\u001b[0m     \u001b[38;5;28;01mreturn\u001b[39;00m \u001b[38;5;28mself\u001b[39m\u001b[38;5;241m.\u001b[39mdims \u001b[38;5;241m==\u001b[39m other\u001b[38;5;241m.\u001b[39mdims \u001b[38;5;129;01mand\u001b[39;00m (\n\u001b[0;32m-> 1937\u001b[0m         \u001b[38;5;28mself\u001b[39m\u001b[38;5;241m.\u001b[39m_data \u001b[38;5;129;01mis\u001b[39;00m other\u001b[38;5;241m.\u001b[39m_data \u001b[38;5;129;01mor\u001b[39;00m \u001b[43mequiv\u001b[49m\u001b[43m(\u001b[49m\u001b[38;5;28;43mself\u001b[39;49m\u001b[38;5;241;43m.\u001b[39;49m\u001b[43mdata\u001b[49m\u001b[43m,\u001b[49m\u001b[43m \u001b[49m\u001b[43mother\u001b[49m\u001b[38;5;241;43m.\u001b[39;49m\u001b[43mdata\u001b[49m\u001b[43m)\u001b[49m\n\u001b[1;32m   1938\u001b[0m     )\n\u001b[1;32m   1939\u001b[0m \u001b[38;5;28;01mexcept\u001b[39;00m (\u001b[38;5;167;01mTypeError\u001b[39;00m, \u001b[38;5;167;01mAttributeError\u001b[39;00m):\n\u001b[1;32m   1940\u001b[0m     \u001b[38;5;28;01mreturn\u001b[39;00m \u001b[38;5;28;01mFalse\u001b[39;00m\n",
      "File \u001b[0;32m/g/data/xv83/users/ds0092/software/miniconda3/envs/forecast_analysis/lib/python3.9/site-packages/xarray/core/duck_array_ops.py:240\u001b[0m, in \u001b[0;36marray_equiv\u001b[0;34m(arr1, arr2)\u001b[0m\n\u001b[1;32m    238\u001b[0m         warnings\u001b[38;5;241m.\u001b[39mfilterwarnings(\u001b[38;5;124m\"\u001b[39m\u001b[38;5;124mignore\u001b[39m\u001b[38;5;124m\"\u001b[39m, \u001b[38;5;124m\"\u001b[39m\u001b[38;5;124mIn the future, \u001b[39m\u001b[38;5;124m'\u001b[39m\u001b[38;5;124mNAT == x\u001b[39m\u001b[38;5;124m'\u001b[39m\u001b[38;5;124m\"\u001b[39m)\n\u001b[1;32m    239\u001b[0m         flag_array \u001b[38;5;241m=\u001b[39m (arr1 \u001b[38;5;241m==\u001b[39m arr2) \u001b[38;5;241m|\u001b[39m (isnull(arr1) \u001b[38;5;241m&\u001b[39m isnull(arr2))\n\u001b[0;32m--> 240\u001b[0m         \u001b[38;5;28;01mreturn\u001b[39;00m \u001b[38;5;28;43mbool\u001b[39;49m\u001b[43m(\u001b[49m\u001b[43mflag_array\u001b[49m\u001b[38;5;241;43m.\u001b[39;49m\u001b[43mall\u001b[49m\u001b[43m(\u001b[49m\u001b[43m)\u001b[49m\u001b[43m)\u001b[49m\n\u001b[1;32m    241\u001b[0m \u001b[38;5;28;01melse\u001b[39;00m:\n\u001b[1;32m    242\u001b[0m     \u001b[38;5;28;01mreturn\u001b[39;00m lazy_equiv\n",
      "File \u001b[0;32m/g/data/xv83/users/ds0092/software/miniconda3/envs/forecast_analysis/lib/python3.9/site-packages/dask/array/core.py:1771\u001b[0m, in \u001b[0;36mArray.__bool__\u001b[0;34m(self)\u001b[0m\n\u001b[1;32m   1766\u001b[0m     \u001b[38;5;28;01mraise\u001b[39;00m \u001b[38;5;167;01mValueError\u001b[39;00m(\n\u001b[1;32m   1767\u001b[0m         \u001b[38;5;124mf\u001b[39m\u001b[38;5;124m\"\u001b[39m\u001b[38;5;124mThe truth value of a \u001b[39m\u001b[38;5;132;01m{\u001b[39;00m\u001b[38;5;28mself\u001b[39m\u001b[38;5;241m.\u001b[39m\u001b[38;5;18m__class__\u001b[39m\u001b[38;5;241m.\u001b[39m\u001b[38;5;18m__name__\u001b[39m\u001b[38;5;132;01m}\u001b[39;00m\u001b[38;5;124m is ambiguous. \u001b[39m\u001b[38;5;124m\"\u001b[39m\n\u001b[1;32m   1768\u001b[0m         \u001b[38;5;124m\"\u001b[39m\u001b[38;5;124mUse a.any() or a.all().\u001b[39m\u001b[38;5;124m\"\u001b[39m\n\u001b[1;32m   1769\u001b[0m     )\n\u001b[1;32m   1770\u001b[0m \u001b[38;5;28;01melse\u001b[39;00m:\n\u001b[0;32m-> 1771\u001b[0m     \u001b[38;5;28;01mreturn\u001b[39;00m \u001b[38;5;28mbool\u001b[39m(\u001b[38;5;28;43mself\u001b[39;49m\u001b[38;5;241;43m.\u001b[39;49m\u001b[43mcompute\u001b[49m\u001b[43m(\u001b[49m\u001b[43m)\u001b[49m)\n",
      "File \u001b[0;32m/g/data/xv83/users/ds0092/software/miniconda3/envs/forecast_analysis/lib/python3.9/site-packages/dask/base.py:290\u001b[0m, in \u001b[0;36mDaskMethodsMixin.compute\u001b[0;34m(self, **kwargs)\u001b[0m\n\u001b[1;32m    266\u001b[0m \u001b[38;5;28;01mdef\u001b[39;00m \u001b[38;5;21mcompute\u001b[39m(\u001b[38;5;28mself\u001b[39m, \u001b[38;5;241m*\u001b[39m\u001b[38;5;241m*\u001b[39mkwargs):\n\u001b[1;32m    267\u001b[0m     \u001b[38;5;124;03m\"\"\"Compute this dask collection\u001b[39;00m\n\u001b[1;32m    268\u001b[0m \n\u001b[1;32m    269\u001b[0m \u001b[38;5;124;03m    This turns a lazy Dask collection into its in-memory equivalent.\u001b[39;00m\n\u001b[0;32m   (...)\u001b[0m\n\u001b[1;32m    288\u001b[0m \u001b[38;5;124;03m    dask.base.compute\u001b[39;00m\n\u001b[1;32m    289\u001b[0m \u001b[38;5;124;03m    \"\"\"\u001b[39;00m\n\u001b[0;32m--> 290\u001b[0m     (result,) \u001b[38;5;241m=\u001b[39m \u001b[43mcompute\u001b[49m\u001b[43m(\u001b[49m\u001b[38;5;28;43mself\u001b[39;49m\u001b[43m,\u001b[49m\u001b[43m \u001b[49m\u001b[43mtraverse\u001b[49m\u001b[38;5;241;43m=\u001b[39;49m\u001b[38;5;28;43;01mFalse\u001b[39;49;00m\u001b[43m,\u001b[49m\u001b[43m \u001b[49m\u001b[38;5;241;43m*\u001b[39;49m\u001b[38;5;241;43m*\u001b[39;49m\u001b[43mkwargs\u001b[49m\u001b[43m)\u001b[49m\n\u001b[1;32m    291\u001b[0m     \u001b[38;5;28;01mreturn\u001b[39;00m result\n",
      "File \u001b[0;32m/g/data/xv83/users/ds0092/software/miniconda3/envs/forecast_analysis/lib/python3.9/site-packages/dask/base.py:573\u001b[0m, in \u001b[0;36mcompute\u001b[0;34m(traverse, optimize_graph, scheduler, get, *args, **kwargs)\u001b[0m\n\u001b[1;32m    570\u001b[0m     keys\u001b[38;5;241m.\u001b[39mappend(x\u001b[38;5;241m.\u001b[39m__dask_keys__())\n\u001b[1;32m    571\u001b[0m     postcomputes\u001b[38;5;241m.\u001b[39mappend(x\u001b[38;5;241m.\u001b[39m__dask_postcompute__())\n\u001b[0;32m--> 573\u001b[0m results \u001b[38;5;241m=\u001b[39m \u001b[43mschedule\u001b[49m\u001b[43m(\u001b[49m\u001b[43mdsk\u001b[49m\u001b[43m,\u001b[49m\u001b[43m \u001b[49m\u001b[43mkeys\u001b[49m\u001b[43m,\u001b[49m\u001b[43m \u001b[49m\u001b[38;5;241;43m*\u001b[39;49m\u001b[38;5;241;43m*\u001b[39;49m\u001b[43mkwargs\u001b[49m\u001b[43m)\u001b[49m\n\u001b[1;32m    574\u001b[0m \u001b[38;5;28;01mreturn\u001b[39;00m repack([f(r, \u001b[38;5;241m*\u001b[39ma) \u001b[38;5;28;01mfor\u001b[39;00m r, (f, a) \u001b[38;5;129;01min\u001b[39;00m \u001b[38;5;28mzip\u001b[39m(results, postcomputes)])\n",
      "File \u001b[0;32m/g/data/xv83/users/ds0092/software/miniconda3/envs/forecast_analysis/lib/python3.9/site-packages/dask/threaded.py:81\u001b[0m, in \u001b[0;36mget\u001b[0;34m(dsk, result, cache, num_workers, pool, **kwargs)\u001b[0m\n\u001b[1;32m     78\u001b[0m     \u001b[38;5;28;01melif\u001b[39;00m \u001b[38;5;28misinstance\u001b[39m(pool, multiprocessing\u001b[38;5;241m.\u001b[39mpool\u001b[38;5;241m.\u001b[39mPool):\n\u001b[1;32m     79\u001b[0m         pool \u001b[38;5;241m=\u001b[39m MultiprocessingPoolExecutor(pool)\n\u001b[0;32m---> 81\u001b[0m results \u001b[38;5;241m=\u001b[39m \u001b[43mget_async\u001b[49m\u001b[43m(\u001b[49m\n\u001b[1;32m     82\u001b[0m \u001b[43m    \u001b[49m\u001b[43mpool\u001b[49m\u001b[38;5;241;43m.\u001b[39;49m\u001b[43msubmit\u001b[49m\u001b[43m,\u001b[49m\n\u001b[1;32m     83\u001b[0m \u001b[43m    \u001b[49m\u001b[43mpool\u001b[49m\u001b[38;5;241;43m.\u001b[39;49m\u001b[43m_max_workers\u001b[49m\u001b[43m,\u001b[49m\n\u001b[1;32m     84\u001b[0m \u001b[43m    \u001b[49m\u001b[43mdsk\u001b[49m\u001b[43m,\u001b[49m\n\u001b[1;32m     85\u001b[0m \u001b[43m    \u001b[49m\u001b[43mresult\u001b[49m\u001b[43m,\u001b[49m\n\u001b[1;32m     86\u001b[0m \u001b[43m    \u001b[49m\u001b[43mcache\u001b[49m\u001b[38;5;241;43m=\u001b[39;49m\u001b[43mcache\u001b[49m\u001b[43m,\u001b[49m\n\u001b[1;32m     87\u001b[0m \u001b[43m    \u001b[49m\u001b[43mget_id\u001b[49m\u001b[38;5;241;43m=\u001b[39;49m\u001b[43m_thread_get_id\u001b[49m\u001b[43m,\u001b[49m\n\u001b[1;32m     88\u001b[0m \u001b[43m    \u001b[49m\u001b[43mpack_exception\u001b[49m\u001b[38;5;241;43m=\u001b[39;49m\u001b[43mpack_exception\u001b[49m\u001b[43m,\u001b[49m\n\u001b[1;32m     89\u001b[0m \u001b[43m    \u001b[49m\u001b[38;5;241;43m*\u001b[39;49m\u001b[38;5;241;43m*\u001b[39;49m\u001b[43mkwargs\u001b[49m\u001b[43m,\u001b[49m\n\u001b[1;32m     90\u001b[0m \u001b[43m\u001b[49m\u001b[43m)\u001b[49m\n\u001b[1;32m     92\u001b[0m \u001b[38;5;66;03m# Cleanup pools associated to dead threads\u001b[39;00m\n\u001b[1;32m     93\u001b[0m \u001b[38;5;28;01mwith\u001b[39;00m pools_lock:\n",
      "File \u001b[0;32m/g/data/xv83/users/ds0092/software/miniconda3/envs/forecast_analysis/lib/python3.9/site-packages/dask/local.py:509\u001b[0m, in \u001b[0;36mget_async\u001b[0;34m(submit, num_workers, dsk, result, cache, get_id, rerun_exceptions_locally, pack_exception, raise_exception, callbacks, dumps, loads, chunksize, **kwargs)\u001b[0m\n\u001b[1;32m    507\u001b[0m res, worker_id \u001b[38;5;241m=\u001b[39m loads(res_info)\n\u001b[1;32m    508\u001b[0m state[\u001b[38;5;124m\"\u001b[39m\u001b[38;5;124mcache\u001b[39m\u001b[38;5;124m\"\u001b[39m][key] \u001b[38;5;241m=\u001b[39m res\n\u001b[0;32m--> 509\u001b[0m \u001b[43mfinish_task\u001b[49m\u001b[43m(\u001b[49m\u001b[43mdsk\u001b[49m\u001b[43m,\u001b[49m\u001b[43m \u001b[49m\u001b[43mkey\u001b[49m\u001b[43m,\u001b[49m\u001b[43m \u001b[49m\u001b[43mstate\u001b[49m\u001b[43m,\u001b[49m\u001b[43m \u001b[49m\u001b[43mresults\u001b[49m\u001b[43m,\u001b[49m\u001b[43m \u001b[49m\u001b[43mkeyorder\u001b[49m\u001b[38;5;241;43m.\u001b[39;49m\u001b[43mget\u001b[49m\u001b[43m)\u001b[49m\n\u001b[1;32m    510\u001b[0m \u001b[38;5;28;01mfor\u001b[39;00m f \u001b[38;5;129;01min\u001b[39;00m posttask_cbs:\n\u001b[1;32m    511\u001b[0m     f(key, res, dsk, state, worker_id)\n",
      "File \u001b[0;32m/g/data/xv83/users/ds0092/software/miniconda3/envs/forecast_analysis/lib/python3.9/site-packages/dask/local.py:270\u001b[0m, in \u001b[0;36mfinish_task\u001b[0;34m(dsk, key, state, results, sortkey, delete, release_data)\u001b[0m\n\u001b[1;32m    268\u001b[0m \u001b[38;5;28;01mfor\u001b[39;00m dep \u001b[38;5;129;01min\u001b[39;00m state[\u001b[38;5;124m\"\u001b[39m\u001b[38;5;124mdependencies\u001b[39m\u001b[38;5;124m\"\u001b[39m][key]:\n\u001b[1;32m    269\u001b[0m     \u001b[38;5;28;01mif\u001b[39;00m dep \u001b[38;5;129;01min\u001b[39;00m state[\u001b[38;5;124m\"\u001b[39m\u001b[38;5;124mwaiting_data\u001b[39m\u001b[38;5;124m\"\u001b[39m]:\n\u001b[0;32m--> 270\u001b[0m         s \u001b[38;5;241m=\u001b[39m \u001b[43mstate\u001b[49m\u001b[43m[\u001b[49m\u001b[38;5;124;43m\"\u001b[39;49m\u001b[38;5;124;43mwaiting_data\u001b[39;49m\u001b[38;5;124;43m\"\u001b[39;49m\u001b[43m]\u001b[49m[dep]\n\u001b[1;32m    271\u001b[0m         s\u001b[38;5;241m.\u001b[39mremove(key)\n\u001b[1;32m    272\u001b[0m         \u001b[38;5;28;01mif\u001b[39;00m \u001b[38;5;129;01mnot\u001b[39;00m s \u001b[38;5;129;01mand\u001b[39;00m dep \u001b[38;5;129;01mnot\u001b[39;00m \u001b[38;5;129;01min\u001b[39;00m results:\n",
      "\u001b[0;31mKeyboardInterrupt\u001b[0m: "
     ]
    }
   ],
   "source": [
    "config = \"../../config/verify/CanESM5.yml\"\n",
    "save_dir = \"../../data/skill/\"\n",
    "\n",
    "# with Client(processes=False) as client:\n",
    "test = verify.verify(config, save_dir=save_dir, save=False)"
   ]
  },
  {
   "cell_type": "markdown",
   "id": "769fa8f6-1b11-4268-9bd7-21cb56dbadf5",
   "metadata": {},
   "source": [
    "# Run `calculate_metric` manually"
   ]
  },
  {
   "cell_type": "code",
   "execution_count": 22,
   "id": "83128d9a-1384-40e0-9aa8-c912bf0f3021",
   "metadata": {},
   "outputs": [],
   "source": [
    "DATA_DIR = \"../../data/processed/\"\n",
    "\n",
    "# EC_Earth3.JRA55.annual.anom_1985-2014.t_ref.CRPSS_1985-2014\n",
    "\n",
    "hcst = xr.open_zarr(\n",
    "    \"../../data/processed/CAFEf6.annual.anom_1991-2020.precip_global.zarr\"\n",
    ")\n",
    "obsv = xr.open_zarr(\n",
    "    \"../../data/processed/GPCP.annual.anom_1991-2020.precip_global.zarr/\"\n",
    ")"
   ]
  },
  {
   "cell_type": "code",
   "execution_count": 26,
   "id": "37ad9a4f-5cc7-4033-ad9b-59ce9f7ba0dc",
   "metadata": {},
   "outputs": [],
   "source": [
    "def _reindex_hindcast(hindcast):\n",
    "    \"\"\"\n",
    "    Reindex hindcast dataset that is indexed by initial date and lead time\n",
    "    to be indexed by target date and lead time\n",
    "    \"\"\"\n",
    "    result = []\n",
    "    for lead in hindcast[\"lead\"]:\n",
    "        hcst = hindcast.sel({\"lead\": lead}).swap_dims({\"init\": \"time\"})\n",
    "        result.append(hcst)\n",
    "    return xr.concat(result, dim=\"lead\")\n",
    "\n",
    "\n",
    "times = slice(\"1991\", \"2020\")\n",
    "hcst_verif = _reindex_hindcast(hcst).sel(time=times)\n",
    "obsv_verif = obsv.sel(time=hcst_verif.time)"
   ]
  },
  {
   "cell_type": "code",
   "execution_count": 44,
   "id": "dcb52b02-0791-461c-aa25-1da6dad08946",
   "metadata": {},
   "outputs": [],
   "source": [
    "test = verify._calculate_metric_from_timeseries(\n",
    "    hcst_verif,\n",
    "    obsv_verif,\n",
    "    metric=verify.msss_clim,\n",
    "    metric_kwargs={},\n",
    "    significance=False,\n",
    ").compute()"
   ]
  },
  {
   "cell_type": "code",
   "execution_count": null,
   "id": "c057dc50-ac3f-45eb-90e4-ef8ab372763b",
   "metadata": {},
   "outputs": [],
   "source": []
  },
  {
   "cell_type": "code",
   "execution_count": 48,
   "id": "6bcb09c3-12b1-4a41-a803-09f650db0cca",
   "metadata": {},
   "outputs": [
    {
     "data": {
      "text/plain": [
       "<matplotlib.collections.QuadMesh at 0x152d913a2a30>"
      ]
     },
     "execution_count": 48,
     "metadata": {},
     "output_type": "execute_result"
    },
    {
     "data": {
      "image/png": "[encoded data removed]",
      "text/plain": [
       "<Figure size 432x288 with 2 Axes>"
      ]
     },
     "metadata": {
      "needs_background": "light"
     },
     "output_type": "display_data"
    }
   ],
   "source": [
    "test[\"precip\"].isel(lead=1).plot(vmin=-1, vmax=1, cmap=\"RdBu_r\")"
   ]
  },
  {
   "cell_type": "code",
   "execution_count": 15,
   "id": "4fbb99e8-bf34-4e86-93fa-990d643a9837",
   "metadata": {},
   "outputs": [
    {
     "data": {
      "text/plain": [
       "<matplotlib.collections.QuadMesh at 0x152da037ffa0>"
      ]
     },
     "execution_count": 15,
     "metadata": {},
     "output_type": "execute_result"
    },
    {
     "data": {
      "image/png": "[encoded data removed]",
      "text/plain": [
       "<Figure size 432x288 with 2 Axes>"
      ]
     },
     "metadata": {
      "needs_background": "light"
     },
     "output_type": "display_data"
    }
   ],
   "source": [
    "obsv[\"precip\"].isel(time=0).plot(cmap=\"viridis\")"
   ]
  },
  {
   "cell_type": "code",
   "execution_count": 42,
   "id": "4d67c1aa-c222-4ef3-bac0-248031993d9c",
   "metadata": {},
   "outputs": [],
   "source": [
    "from src import utils\n",
    "\n",
    "hcst = utils.mask_period(hcst, period=[\"1991\", \"2020\"])"
   ]
  },
  {
   "cell_type": "code",
   "execution_count": 10,
   "id": "d6e1c801-9021-4ed2-a4c9-7db12469fa47",
   "metadata": {},
   "outputs": [],
   "source": [
    "lead = 0\n",
    "\n",
    "hcst_ts = hcst.isel(lead=lead).swap_dims({\"init\": \"time\"}).dropna(\"time\", how=\"all\")\n",
    "hist_ts = hist.sel(time=hcst_ts.time)\n",
    "obsv_ts = obsv.sel(time=hcst_ts.time)"
   ]
  },
  {
   "cell_type": "code",
   "execution_count": 11,
   "id": "6828e769-d4dd-49e6-85f5-54520b7c8c52",
   "metadata": {},
   "outputs": [],
   "source": [
    "t = verify._calculate_metric_from_timeseries(\n",
    "    hcst_ts, obsv_ts, hist_ts, metric=verify.msss, metric_kwargs={}, significance=False\n",
    ")"
   ]
  },
  {
   "cell_type": "code",
   "execution_count": 12,
   "id": "7cc5dbab-ccbb-4e7c-b156-2292a4f00b0a",
   "metadata": {},
   "outputs": [
    {
     "data": {
      "text/plain": [
       "array(0.78154754)"
      ]
     },
     "execution_count": 12,
     "metadata": {},
     "output_type": "execute_result"
    }
   ],
   "source": [
    "t[\"nino34\"].values"
   ]
  },
  {
   "cell_type": "code",
   "execution_count": 43,
   "id": "7b5dfe7a-ee49-4d9f-a815-9927175f054f",
   "metadata": {},
   "outputs": [
    {
     "name": "stderr",
     "output_type": "stream",
     "text": [
      "/g/data/xv83/users/ds0092/active_projects/Squire_2022_CAFE-f6/src/verify.py:542: UserWarning: A common set of verification times at all leads could not be found. Verifying over all available times at each lead\n",
      "  (\n"
     ]
    },
    {
     "name": "stdout",
     "output_type": "stream",
     "text": [
      "CPU times: user 5.18 s, sys: 146 ms, total: 5.33 s\n",
      "Wall time: 6.18 s\n"
     ]
    }
   ],
   "source": [
    "%%time\n",
    "\n",
    "a = verify.calculate_metric(\n",
    "    hcst, \n",
    "    obsv,\n",
    "    hist,\n",
    "    metric=\"crpss\", \n",
    "    significance=False\n",
    ")\n",
    "\n",
    "with Client(processes=False) as client:\n",
    "    a = a.compute()"
   ]
  },
  {
   "cell_type": "code",
   "execution_count": 44,
   "id": "f94a6085-46b6-4a84-b624-88883ee8f61d",
   "metadata": {},
   "outputs": [
    {
     "data": {
      "text/plain": [
       "[<matplotlib.lines.Line2D at 0x14b7c5e09a00>]"
      ]
     },
     "execution_count": 44,
     "metadata": {},
     "output_type": "execute_result"
    },
    {
     "data": {
      "image/png": "[encoded data removed]",
      "text/plain": [
       "<Figure size 432x288 with 1 Axes>"
      ]
     },
     "metadata": {
      "needs_background": "light"
     },
     "output_type": "display_data"
    }
   ],
   "source": [
    "a[\"nino34\"].plot()"
   ]
  },
  {
   "cell_type": "code",
   "execution_count": 15,
   "id": "a17c6689-8c0d-4a24-8f4b-25eb2c61ee13",
   "metadata": {},
   "outputs": [
    {
     "data": {
      "text/plain": [
       "<function xskillscore.core.deterministic.pearson_r(a, b, dim=None, weights=None, skipna=False, keep_attrs=False)>"
      ]
     },
     "execution_count": 15,
     "metadata": {},
     "output_type": "execute_result"
    }
   ],
   "source": [
    "import xskillscore as xs\n",
    "\n",
    "xs.pearson_r()"
   ]
  },
  {
   "cell_type": "markdown",
   "id": "b36d360c-b0d1-40f3-aed6-05fc97444cad",
   "metadata": {
    "tags": []
   },
   "source": [
    "# Is it faster to calculate the skill metric within `apply_ufunc`?"
   ]
  },
  {
   "cell_type": "code",
   "execution_count": 287,
   "id": "c6732360-c8ca-4516-90ce-a80fb521532e",
   "metadata": {},
   "outputs": [],
   "source": [
    "n_iterations = 1000"
   ]
  },
  {
   "cell_type": "code",
   "execution_count": 290,
   "id": "750425f8-c755-4ee2-ac34-e3c7af847619",
   "metadata": {},
   "outputs": [
    {
     "name": "stdout",
     "output_type": "stream",
     "text": [
      "CPU times: user 1min 11s, sys: 9.62 s, total: 1min 20s\n",
      "Wall time: 1min 19s\n"
     ]
    }
   ],
   "source": [
    "%%time\n",
    "\n",
    "def mean_error_np(a, b):\n",
    "    return np.mean(np.mean(a, axis=-1) - b, axis=-1)\n",
    "\n",
    "bootstraps = [\n",
    "    bootstrap_metric(\n",
    "        hindcast_verif_times,\n",
    "        references_verif_times,\n",
    "        dim=[\"time\", \"member\"],\n",
    "        metric=mean_error_np,\n",
    "    )\n",
    "    for _ in range(n_iterations)\n",
    "]\n",
    "a = xr.concat(\n",
    "        bootstraps, dim=\"iteration\", coords=\"minimal\", compat=\"override\"\n",
    "    )\n",
    "\n",
    "with Client() as client:\n",
    "    a = a.compute()"
   ]
  },
  {
   "cell_type": "code",
   "execution_count": 291,
   "id": "f81b7398-83eb-4267-945b-55c22f534cc4",
   "metadata": {},
   "outputs": [
    {
     "name": "stdout",
     "output_type": "stream",
     "text": [
      "CPU times: user 1min 21s, sys: 10.5 s, total: 1min 31s\n",
      "Wall time: 1min 29s\n"
     ]
    }
   ],
   "source": [
    "%%time\n",
    "\n",
    "def mean_error(a, b):\n",
    "    return (a.mean(\"member\") - b).mean(\"time\")\n",
    "\n",
    "bootstraps = iterative_bootstrap(\n",
    "    hindcast_verif_times,\n",
    "    references_verif_times,\n",
    "    dim=[\"time\", \"member\"],\n",
    "    n_iterations=n_iterations,\n",
    ")\n",
    "\n",
    "b = mean_error(*bootstraps)\n",
    "\n",
    "with Client() as client:\n",
    "    b = b.compute()"
   ]
  },
  {
   "cell_type": "markdown",
   "id": "07b46d51-bc18-48e9-8eaa-242d8d1f3f49",
   "metadata": {},
   "source": [
    "### Not by an amount that justifies the inconvenience..."
   ]
  },
  {
   "cell_type": "markdown",
   "id": "90f6f26a-ea54-4151-ab5b-3b7f57e03ed5",
   "metadata": {},
   "source": [
    "# Old versions of bootstrapping functions"
   ]
  },
  {
   "cell_type": "markdown",
   "id": "089188fa-3238-414b-8ec1-3456e47e5440",
   "metadata": {},
   "source": [
    "### Apply metric within ufunc"
   ]
  },
  {
   "cell_type": "code",
   "execution_count": null,
   "id": "c438101d-5da7-4543-bbdb-bbf57fac7348",
   "metadata": {},
   "outputs": [],
   "source": [
    "from collections import OrderedDict\n",
    "\n",
    "\n",
    "def _nested_random_indices(sizes):\n",
    "    \"\"\"\n",
    "    Returns indices to randomly resample (with replacement) an array in a nested\n",
    "    manner. I.e. randomly resample the first dimension, then for each randomly\n",
    "    sampled element along that dimension, randomly resample the second dimension,\n",
    "    then for each randomly sampled element along that dimension, randomly resample\n",
    "    the third dimension etc.\n",
    "\n",
    "    Parameters\n",
    "    ----------\n",
    "    sizes : OrderedDict\n",
    "        Dictionary with the names and sizes of the dimensions to resample\n",
    "    \"\"\"\n",
    "\n",
    "    shape = [s for s in sizes.values()]\n",
    "    indices = OrderedDict()\n",
    "    for ax, key in enumerate(sizes.keys()):\n",
    "        indices[key] = np.random.randint(0, shape[ax], shape[: ax + 1])\n",
    "    return indices\n",
    "\n",
    "\n",
    "def _expand_nested_random_indices(indices):\n",
    "    \"\"\"\n",
    "    Expand the dimensions of the nested input arrays so that they can be broadcast\n",
    "    and return a tuple that can be directly indexed\n",
    "\n",
    "    Parameters\n",
    "    ----------\n",
    "    indices : list of numpy arrays\n",
    "        List of numpy arrays of sequentially increasing dimension as output by the\n",
    "        function `nested_random_indices`\n",
    "    \"\"\"\n",
    "    broadcast_ndim = indices[-1].ndim\n",
    "    broadcast_indices = []\n",
    "    for i, ind in enumerate(indices):\n",
    "        broadcast_indices.append(\n",
    "            np.expand_dims(ind, axis=list(range(i + 1, broadcast_ndim)))\n",
    "        )\n",
    "    return (..., *tuple(broadcast_indices))\n",
    "\n",
    "\n",
    "def bootstrap_metric(*objects, dim, metric):\n",
    "    \"\"\"\n",
    "    Bootstrap the provided array across the specified dimension(s) in a nested\n",
    "    manner. I.e. bootstrap the first provided dimension, then for each\n",
    "    bootstrapped sample along that dimenion, bootstrap the second provided\n",
    "    dimension, then for each bootstrapped sample along that dimenion...\n",
    "\n",
    "    Parameters\n",
    "    ----------\n",
    "    objects : iterable of Datasets\n",
    "        The data to bootstrap. Multiple datasets can be passes to be\n",
    "        bootstrapped in the same way. Where multiple datasets are passed,\n",
    "        all datasets need not contain all bootstrapped dimensions. However,\n",
    "        because of the bootstrapping is applied in a nested manner, the\n",
    "        dimensions in all input objects must also be nested. E.g., for\n",
    "        `dim=['d1','d2','d3']` an object with dimensions 'd1' and 'd2' is\n",
    "        valid but an object with only dimension 'd2' is not.\n",
    "    dim : str or iterable of str\n",
    "        The dimension(s) to bootstrap in a nested manner.\n",
    "    update_outer_dim_coords : boolean, optional\n",
    "        If True, the index coordinates of the outer (first) dimension in\n",
    "        dim and any non-index coordinates with this dimension are updated\n",
    "        to reflect the bootstrap shuffling along that dimension. Otherwise,\n",
    "        the data are shuffled, but the coordinates are left unchanged.\n",
    "    \"\"\"\n",
    "\n",
    "    def _bootstrap(*arrays, indices, metric):\n",
    "        \"\"\"Bootstrap the array(s) using the provided indices\"\"\"\n",
    "        bootstrapped = tuple([array[ind] for array, ind in zip(arrays, indices)])\n",
    "        metric_bootstrapped = metric(*bootstrapped)\n",
    "        return metric_bootstrapped\n",
    "\n",
    "    if isinstance(dim, str):\n",
    "        dim = [dim]\n",
    "\n",
    "    # Get the sizes of the bootstrap dimensions\n",
    "    sizes = None\n",
    "    for obj in objects:\n",
    "        try:\n",
    "            sizes = OrderedDict({d: obj.sizes[d] for d in dim})\n",
    "            break\n",
    "        except KeyError:\n",
    "            pass\n",
    "    if sizes is None:\n",
    "        raise ValueError(\"At least one input object must contain all dimensions in dim\")\n",
    "\n",
    "    # Generate the random indices first so that we can be sure that each\n",
    "    # dask chunk uses the same indices. Note, I tried using random.seed()\n",
    "    # to achieve this but it was flaky\n",
    "    nested_indices = _nested_random_indices(sizes)  # Indices to resample all objects\n",
    "\n",
    "    # Need to expand the indices for broadcasting for each object separately\n",
    "    # as each object may have different dimensions\n",
    "    indices = []\n",
    "    input_core_dims = []\n",
    "    for obj in objects:\n",
    "        available_dims = [d for d in dim if d in obj.dims]\n",
    "        indices_to_expand = [nested_indices[key] for key in available_dims]\n",
    "\n",
    "        # Check that dimensions are nested\n",
    "        ndims = [i.ndim for i in indices_to_expand]\n",
    "        if ndims != list(range(1, len(ndims) + 1)):\n",
    "            raise ValueError(\"The dimensions of all inputs must be nested\")\n",
    "\n",
    "        indices.append(_expand_nested_random_indices(indices_to_expand))\n",
    "        input_core_dims.append(available_dims)\n",
    "\n",
    "    return xr.apply_ufunc(\n",
    "        _bootstrap,\n",
    "        *objects,\n",
    "        kwargs=dict(\n",
    "            indices=indices,\n",
    "            metric=metric,\n",
    "        ),\n",
    "        input_core_dims=input_core_dims,\n",
    "        output_core_dims=[[]],\n",
    "        keep_attrs=True,\n",
    "        dask=\"parallelized\",\n",
    "        output_dtypes=[float],\n",
    "    )"
   ]
  },
  {
   "cell_type": "markdown",
   "id": "c70eb905-5420-46e0-8443-62f6b24f46ce",
   "metadata": {},
   "source": [
    "### Basic nested bootstrap"
   ]
  },
  {
   "cell_type": "code",
   "execution_count": null,
   "id": "20bb4b52-a50f-403a-a4cc-d1b2e6a5e2af",
   "metadata": {},
   "outputs": [],
   "source": [
    "from collections import OrderedDict\n",
    "\n",
    "\n",
    "def _nested_random_indices(sizes):\n",
    "    \"\"\"\n",
    "    Returns indices to randomly resample (with replacement) an array in a nested\n",
    "    manner. I.e. randomly resample the first dimension, then for each randomly\n",
    "    sampled element along that dimension, randomly resample the second dimension,\n",
    "    then for each randomly sampled element along that dimension, randomly resample\n",
    "    the third dimension etc.\n",
    "\n",
    "    Parameters\n",
    "    ----------\n",
    "    sizes : OrderedDict\n",
    "        Dictionary with the names and sizes of the dimensions to resample\n",
    "    \"\"\"\n",
    "\n",
    "    shape = [s for s in sizes.values()]\n",
    "    indices = OrderedDict()\n",
    "    for ax, key in enumerate(sizes.keys()):\n",
    "        indices[key] = np.random.randint(0, shape[ax], shape[: ax + 1])\n",
    "    return indices\n",
    "\n",
    "\n",
    "def _expand_nested_random_indices(indices):\n",
    "    \"\"\"\n",
    "    Expand the dimensions of the nested input arrays so that they can be broadcast\n",
    "    and return a tuple that can be directly indexed\n",
    "\n",
    "    Parameters\n",
    "    ----------\n",
    "    indices : list of numpy arrays\n",
    "        List of numpy arrays of sequentially increasing dimension as output by the\n",
    "        function `nested_random_indices`\n",
    "    \"\"\"\n",
    "    broadcast_ndim = indices[-1].ndim\n",
    "    broadcast_indices = []\n",
    "    for i, ind in enumerate(indices):\n",
    "        broadcast_indices.append(\n",
    "            np.expand_dims(ind, axis=list(range(i + 1, broadcast_ndim)))\n",
    "        )\n",
    "    return (..., *tuple(broadcast_indices))\n",
    "\n",
    "\n",
    "def bootstrap(*objects, dim, update_outer_dim_coords=True):\n",
    "    \"\"\"\n",
    "    Bootstrap the provided array across the specified dimension(s) in a nested\n",
    "    manner. I.e. bootstrap the first provided dimension, then for each\n",
    "    bootstrapped sample along that dimenion, bootstrap the second provided\n",
    "    dimension, then for each bootstrapped sample along that dimenion...\n",
    "\n",
    "    Parameters\n",
    "    ----------\n",
    "    objects : iterable of Datasets\n",
    "        The data to bootstrap. Multiple datasets can be passes to be\n",
    "        bootstrapped in the same way. Where multiple datasets are passed,\n",
    "        all datasets need not contain all bootstrapped dimensions. However,\n",
    "        because of the bootstrapping is applied in a nested manner, the\n",
    "        dimensions in all input objects must also be nested. E.g., for\n",
    "        `dim=['d1','d2','d3']` an object with dimensions 'd1' and 'd2' is\n",
    "        valid but an object with only dimension 'd2' is not.\n",
    "    dim : str or iterable of str\n",
    "        The dimension(s) to bootstrap in a nested manner.\n",
    "    update_outer_dim_coords : boolean, optional\n",
    "        If True, the index coordinates of the outer (first) dimension in\n",
    "        dim and any non-index coordinates with this dimension are updated\n",
    "        to reflect the bootstrap shuffling along that dimension. Otherwise,\n",
    "        the data are shuffled, but the coordinates are left unchanged.\n",
    "    \"\"\"\n",
    "\n",
    "    def _bootstrap(*arrays, indices):\n",
    "        \"\"\"Bootstrap the array(s) using the provided indices\"\"\"\n",
    "        bootstrapped = tuple([array[ind] for array, ind in zip(arrays, indices)])\n",
    "        if len(bootstrapped) == 1:\n",
    "            return bootstrapped[0]\n",
    "        else:\n",
    "            return bootstrapped\n",
    "\n",
    "    if isinstance(dim, str):\n",
    "        dim = [dim]\n",
    "\n",
    "    # Get the sizes of the bootstrap dimensions\n",
    "    sizes = None\n",
    "    for obj in objects:\n",
    "        try:\n",
    "            sizes = OrderedDict({d: obj.sizes[d] for d in dim})\n",
    "            break\n",
    "        except KeyError:\n",
    "            pass\n",
    "    if sizes is None:\n",
    "        raise ValueError(\"At least one input object must contain all dimensions in dim\")\n",
    "\n",
    "    # Generate the random indices first so that we can be sure that each\n",
    "    # dask chunk uses the same indices. Note, I tried using random.seed()\n",
    "    # to achieve this but it was flaky\n",
    "    nested_indices = _nested_random_indices(sizes)  # Indices to resample all objects\n",
    "\n",
    "    # Need to expand the indices for broadcasting for each object separately\n",
    "    # as each object may have different dimensions\n",
    "    indices = []\n",
    "    input_core_dims = []\n",
    "    for obj in objects:\n",
    "        available_dims = [d for d in dim if d in obj.dims]\n",
    "        indices_to_expand = [nested_indices[key] for key in available_dims]\n",
    "\n",
    "        # Check that dimensions are nested\n",
    "        ndims = [i.ndim for i in indices_to_expand]\n",
    "        if ndims != list(range(1, len(ndims) + 1)):\n",
    "            raise ValueError(\"The dimensions of all inputs must be nested\")\n",
    "\n",
    "        indices.append(_expand_nested_random_indices(indices_to_expand))\n",
    "        input_core_dims.append(available_dims)\n",
    "\n",
    "    results = xr.apply_ufunc(\n",
    "        _bootstrap,\n",
    "        *objects,\n",
    "        kwargs=dict(\n",
    "            indices=indices,\n",
    "        ),\n",
    "        input_core_dims=input_core_dims,\n",
    "        output_core_dims=input_core_dims,\n",
    "        keep_attrs=True,\n",
    "        dask=\"parallelized\",\n",
    "        output_dtypes=[float] * len(input_core_dims),\n",
    "        dask_gufunc_kwargs=dict(output_sizes=sizes),\n",
    "    )\n",
    "\n",
    "    def _update_outer_dim_coords(ds, outer_dim_indices):\n",
    "        coords_to_update = [c for c in ds.coords if (dim[0] in ds[c].dims)]\n",
    "        for c in coords_to_update:\n",
    "            new_coord = ds[c].transpose(dim[0], ...)[outer_dim_indices]\n",
    "            ds = ds.assign_coords({c: (new_coord.dims, new_coord.values)})\n",
    "        return ds\n",
    "\n",
    "    if update_outer_dim_coords:\n",
    "        if len(objects) == 1:\n",
    "            return _update_outer_dim_coords(results, nested_indices[dim[0]])\n",
    "        else:\n",
    "            return tuple(\n",
    "                [\n",
    "                    _update_outer_dim_coords(result, nested_indices[dim[0]])\n",
    "                    for result in results\n",
    "                ]\n",
    "            )\n",
    "    else:\n",
    "        return results"
   ]
  },
  {
   "cell_type": "code",
   "execution_count": null,
   "id": "048ec46d-f24b-423a-8637-2203cf85524c",
   "metadata": {},
   "outputs": [],
   "source": [
    "def iterative_bootstrap(*objects, dim, n_iterations):\n",
    "    \"\"\"\n",
    "    Repeatedly bootstrap the provided array across the specified dimension(s)\n",
    "    and stack the new arrays along a new \"iteration\" dimension. The\n",
    "    boostrapping is done in a nested manner. I.e. bootstrap the first provided\n",
    "    dimension, then for each bootstrapped sample along that dimenion, bootstrap\n",
    "    the second provided dimension, then for each bootstrapped sample along that\n",
    "    dimenion...\n",
    "\n",
    "    Parameters\n",
    "    ----------\n",
    "    objects : iterable of Datasets\n",
    "        The data to bootstrap. Multiple datasets can be passes to be\n",
    "        bootstrapped in the same way. Where multiple datasets are passed,\n",
    "        all datasets need not contain all bootstrapped dimensions. However,\n",
    "        because of the bootstrapping is applied in a nested manner, the\n",
    "        dimensions in all input objects must also be nested. E.g., for\n",
    "        `dim=['d1','d2','d3']` an object with dimensions 'd1' and 'd2' is\n",
    "        valid but an object with only dimension 'd2' is not.\n",
    "    dim : str or iterable of str\n",
    "        The dimension(s) to bootstrap in a nested manner.\n",
    "    n_iterations : int\n",
    "        The number of times to repeat the bootstrapping\n",
    "    \"\"\"\n",
    "    bootstraps = [\n",
    "        bootstrap(*objects, dim=dim, update_outer_dim_coords=False)\n",
    "        for _ in range(n_iterations)\n",
    "    ]\n",
    "    if len(objects) == 1:\n",
    "        return xr.concat(\n",
    "            bootstraps, dim=\"iteration\", coords=\"minimal\", compat=\"override\"\n",
    "        )\n",
    "    else:\n",
    "        return tuple(\n",
    "            [\n",
    "                xr.concat(b, dim=\"iteration\", coords=\"minimal\", compat=\"override\")\n",
    "                for b in zip(*bootstraps)\n",
    "            ]\n",
    "        )"
   ]
  },
  {
   "cell_type": "markdown",
   "id": "637a727e-435b-4987-9b8a-437959fd4287",
   "metadata": {},
   "source": [
    "### Expand interations within ufunc\n",
    "This works great for small numbers of iterations but kills the kernel for n O(1000)"
   ]
  },
  {
   "cell_type": "code",
   "execution_count": 39,
   "id": "674c4fce-1766-4d74-9efb-125418ba60ab",
   "metadata": {},
   "outputs": [],
   "source": [
    "from collections import OrderedDict\n",
    "\n",
    "\n",
    "def _n_nested_random_indexes(sizes, iterations):\n",
    "    \"\"\"\n",
    "    Returns indexes to randomly resample (with replacement) an array in a nested\n",
    "    manner. I.e. randomly resample the first dimension, then for each randomly\n",
    "    sampled element along that dimension, randomly resample the second dimension,\n",
    "    then for each randomly sampled element along that dimension, randomly resample\n",
    "    the third dimension etc.\n",
    "\n",
    "    Parameters\n",
    "    ----------\n",
    "    sizes : OrderedDict\n",
    "        Dictionary with the names and sizes of the dimensions to resample\n",
    "    \"\"\"\n",
    "\n",
    "    shape = [s for s in sizes.values()]\n",
    "    indexes = OrderedDict()\n",
    "    for ax, key in enumerate(sizes.keys()):\n",
    "        indexes[key] = np.random.randint(0, shape[ax], shape[: ax + 1] + [iterations])\n",
    "    return indexes\n",
    "\n",
    "\n",
    "def _expand_nested_random_indexes(indexes):\n",
    "    \"\"\"\n",
    "    Expand the dimensions of the nested input arrays so that they can be broadcast\n",
    "    and return a tuple that can be directly indexed\n",
    "\n",
    "    Parameters\n",
    "    ----------\n",
    "    indexes : list of numpy arrays\n",
    "        List of numpy arrays of sequentially increasing dimension as output by the\n",
    "        function `nested_random_indexes`\n",
    "    \"\"\"\n",
    "    broadcast_ndim = indexes[-1].ndim\n",
    "    broadcast_indices = []\n",
    "    for i, index in enumerate(indexes):\n",
    "        expand_axes = list(range(i + 1, broadcast_ndim - 1))\n",
    "        broadcast_indices.append(np.expand_dims(index, axis=expand_axes))\n",
    "    return (..., *tuple(broadcast_indices))\n",
    "\n",
    "\n",
    "def bootstrap_iterations(*objects, dim, update_outer_dim_coords=True):\n",
    "    \"\"\"\n",
    "    Bootstrap the provided array across the specified dimension in a nested\n",
    "    manner. I.e. bootstrap the first provided dimension, then for each\n",
    "    bootstrapped sample along that dimenion, bootstrap the second provided\n",
    "    dimension, then for each bootstrapped sample along that dimenion...\n",
    "\n",
    "    Parameters\n",
    "    ----------\n",
    "    objects : iterable of Datasets\n",
    "        The data to bootstrap. Multiple datasets can be passes to be\n",
    "        bootstrapped in the same way. Where multiple datasets are passed,\n",
    "        all datasets need not contain all bootstrapped dimensions. However,\n",
    "        because of the bootstrapping is applied in a nested manner, the\n",
    "        dimensions in all input objects must also be nested. E.g., for\n",
    "        `dim=['d1','d2','d3']` an object with dimensions 'd1' and 'd2' is\n",
    "        valid but an object with only dimension 'd2' is not.\n",
    "    dim : str or iterable of str\n",
    "        The dimension(s) to bootstrap in a nested manner.\n",
    "    update_outer_dim_coords : boolean, optional\n",
    "        If True, the index coordinates of the outer (first) dimension in\n",
    "        dim and any non-index coordinates with this dimension are updated\n",
    "        to reflect the bootstrap shuffling along that dimension. Otherwise,\n",
    "        the data are shuffled, but the coordinates are left unchanged.\n",
    "    \"\"\"\n",
    "\n",
    "    iterations = 1000\n",
    "\n",
    "    def _bootstrap(*arrays, indexes):\n",
    "        \"\"\"Bootstrap the array(s) using the provided indexes\"\"\"\n",
    "        bootstrapped = [array[ind] for array, ind in zip(arrays, indexes)]\n",
    "        if len(bootstrapped) == 1:\n",
    "            return bootstrapped[0]\n",
    "        else:\n",
    "            return tuple(bootstrapped)\n",
    "\n",
    "    if isinstance(dim, str):\n",
    "        dim = [dim]\n",
    "\n",
    "    # Get the sizes of the bootstrap dimensions\n",
    "    sizes = None\n",
    "    for obj in objects:\n",
    "        try:\n",
    "            sizes = OrderedDict({d: obj.sizes[d] for d in dim})\n",
    "            break\n",
    "        except KeyError:\n",
    "            pass\n",
    "    if sizes is None:\n",
    "        raise ValueError(\"At least one input object must contain all dimensions in dim\")\n",
    "\n",
    "    # Generate the random indices first so that we can be sure that each\n",
    "    # dask chunk uses the same indices. Note, I tried using random.seed()\n",
    "    # to achieve this but it was flaky\n",
    "    nested_indexes = _n_nested_random_indexes(\n",
    "        sizes, iterations\n",
    "    )  # Indices to resample all objects\n",
    "\n",
    "    # Need to expand the indexes for broadcasting for each object separately\n",
    "    # as each object may have different dimensions\n",
    "    indexes = []\n",
    "    input_core_dims = []\n",
    "    output_core_dims = []\n",
    "    for obj in objects:\n",
    "        available_dims = [d for d in dim if d in obj.dims]\n",
    "        indexes_to_expand = [nested_indexes[key] for key in available_dims]\n",
    "\n",
    "        # Check that dimensions are nested\n",
    "        ndims = [i.ndim for i in indexes_to_expand]\n",
    "        if ndims != list(range(2, len(ndims) + 2)):\n",
    "            raise ValueError(\"The dimensions of all inputs must be nested\")\n",
    "\n",
    "        indexes.append(_expand_nested_random_indexes(indexes_to_expand))\n",
    "        input_core_dims.append(available_dims)\n",
    "        output_core_dims.append(available_dims + [\"iteration\"])\n",
    "\n",
    "    results = xr.apply_ufunc(\n",
    "        _bootstrap,\n",
    "        *objects,\n",
    "        kwargs=dict(\n",
    "            indexes=indexes,\n",
    "        ),\n",
    "        input_core_dims=input_core_dims,\n",
    "        output_core_dims=output_core_dims,\n",
    "        dask=\"parallelized\",\n",
    "        dask_gufunc_kwargs=dict(output_sizes={\"iteration\": iterations}),\n",
    "        output_dtypes=[np.float32] * len(input_core_dims),\n",
    "    )\n",
    "\n",
    "    return results\n",
    "\n",
    "\n",
    "#     def update_outer_dim_coords(ds, outer_dim_indexes):\n",
    "#         coords_to_update = [c for c in ds.coords if (dim[0] in ds[c].dims)]\n",
    "#         for c in coords_to_update:\n",
    "#             new_coord = ds[c].transpose(dim[0], ...)[outer_dim_indexes]\n",
    "#             ds = ds.assign_coords({c: (new_coord.dims, new_coord.values)})\n",
    "#         return ds\n",
    "\n",
    "#     if update_outer_dim_coords:\n",
    "#         if len(objects) == 1:\n",
    "#             return update_outer_dim_coords(results, nested_indexes[dim[0]])\n",
    "#         else:\n",
    "#             return [\n",
    "#                 update_outer_dim_coords(result, nested_indexes[dim[0]])\n",
    "#                 for result in results\n",
    "#             ]\n",
    "#     else:\n",
    "#         return results"
   ]
  },
  {
   "cell_type": "code",
   "execution_count": null,
   "id": "5928ea53-3eb1-4ad4-a210-c276bf7c322b",
   "metadata": {},
   "outputs": [],
   "source": [
    "def test_nested_random_resample():\n",
    "    \"\"\"\n",
    "    Tests the function nested_random_resample\n",
    "\n",
    "    For each axis level of nested random sampling this checks that the elements\n",
    "    outer to the randomly sample axis are the same for each random sample. This\n",
    "    is only a check that the nesting hasn't not worked\n",
    "    \"\"\"\n",
    "\n",
    "    import itertools\n",
    "\n",
    "    # Generate some test data with data that makes it location clear\n",
    "    shape = (6, 5, 4, 3, 2)\n",
    "    axes = [\"a\", \"b\", \"c\", \"d\", \"e\"]\n",
    "    n_axes = 2\n",
    "    test = np.zeros(shape, dtype=\"<U16\")\n",
    "    for i in itertools.product(*[range(i) for i in shape]):\n",
    "        test[i] = \"\".join([f\"{axes[j]}{i[j]}\" for j in range(len(i))])\n",
    "\n",
    "    # Randomly resample the test data\n",
    "    nested_indexes = _nested_random_indexes(dict(zip(axes, shape)))\n",
    "    indexes = _expand_nested_random_indexes([nested_indexes[k] for k in axes])\n",
    "    res = test[indexes]\n",
    "\n",
    "    # Check that the nesting hasn't not worked\n",
    "    for a in range(-n_axes, 0):\n",
    "        # Look at a random location for the not sampled axes\n",
    "        idx = [np.random.randint(0, i) for i in res.shape[:a]]\n",
    "        idx.append(slice(None))\n",
    "\n",
    "        for element_idx in itertools.product(*[range(i) for i in res.shape[a:][1:]]):\n",
    "            to_check = res[tuple(idx + list(element_idx))]\n",
    "            identical_elements = [s[: 2 * (res.ndim + a)] for s in to_check]\n",
    "            assert len(set(identical_elements)) == 1"
   ]
  }
 ],
 "metadata": {
  "kernelspec": {
   "display_name": "Python (forecast_analysis)",
   "language": "python",
   "name": "forecast_analysis"
  },
  "language_info": {
   "codemirror_mode": {
    "name": "ipython",
    "version": 3
   },
   "file_extension": ".py",
   "mimetype": "text/x-python",
   "name": "python",
   "nbconvert_exporter": "python",
   "pygments_lexer": "ipython3",
   "version": "3.9.10"
  }
 },
 "nbformat": 4,
 "nbformat_minor": 5
}
