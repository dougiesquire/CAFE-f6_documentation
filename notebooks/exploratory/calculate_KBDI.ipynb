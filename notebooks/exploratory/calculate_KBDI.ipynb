{
 "cells": [
  {
   "cell_type": "markdown",
   "id": "ad5802b2-fb91-488c-bf8f-d944c37f7853",
   "metadata": {},
   "source": [
    "# Developing functions for computing the FFDI drought factor via the KBDI"
   ]
  },
  {
   "cell_type": "code",
   "execution_count": 1,
   "id": "18e758d1-2e3e-4030-acad-7f2162dcfb06",
   "metadata": {},
   "outputs": [],
   "source": [
    "import xarray as xr\n",
    "\n",
    "import numpy as np\n",
    "\n",
    "from src.prepare_data import _open\n",
    "\n",
    "import matplotlib.pyplot as plt"
   ]
  },
  {
   "cell_type": "code",
   "execution_count": 2,
   "id": "78152f50-f6eb-486d-a8e5-2a9f20075914",
   "metadata": {},
   "outputs": [],
   "source": [
    "%load_ext lab_black"
   ]
  },
  {
   "cell_type": "markdown",
   "id": "bf371490-ef9e-4e8b-a6f3-c3adeb75e71c",
   "metadata": {
    "tags": []
   },
   "source": [
    "## Cluster"
   ]
  },
  {
   "cell_type": "code",
   "execution_count": 3,
   "id": "52eff6c1-6a66-48cb-99b4-5331f32a24b0",
   "metadata": {},
   "outputs": [
    {
     "name": "stderr",
     "output_type": "stream",
     "text": [
      "/datasets/work/oa-dcfp/work/squ027/.conda/envs/forecast_analysis/lib/python3.9/site-packages/dask_jobqueue/core.py:20: FutureWarning: tmpfile is deprecated and will be removed in a future release. Please use dask.utils.tmpfile instead.\n",
      "  from distributed.utils import tmpfile\n"
     ]
    },
    {
     "name": "stdout",
     "output_type": "stream",
     "text": [
      "Dask daskboard link: http://10.141.201.75:8787/status\n"
     ]
    }
   ],
   "source": [
    "from distributed import Client\n",
    "from dask_jobqueue import SLURMCluster\n",
    "\n",
    "walltime = \"02:00:00\"\n",
    "cores = 64\n",
    "memory = \"512GB\"\n",
    "cluster = SLURMCluster(\n",
    "    walltime=str(walltime),\n",
    "    cores=cores,\n",
    "    memory=str(memory),\n",
    "    job_extra=['--qos=\"express\"'],\n",
    ")\n",
    "\n",
    "cluster.scale(jobs=1)\n",
    "client = Client(cluster)\n",
    "print(f\"Dask daskboard link: {client.dashboard_link}\")"
   ]
  },
  {
   "cell_type": "raw",
   "id": "f8838c90-60f7-47a9-bc1a-066fa38fad19",
   "metadata": {
    "tags": []
   },
   "source": [
    "from distributed import Client\n",
    "from dask_jobqueue import PBSCluster\n",
    "\n",
    "walltime = \"02:00:00\"\n",
    "cores = 48\n",
    "memory = \"192GB\"\n",
    "cluster = PBSCluster(\n",
    "    processes=1,\n",
    "    walltime=str(walltime),\n",
    "    cores=cores,\n",
    "    memory=str(memory),\n",
    "    job_extra=[\n",
    "        \"-q express\",\n",
    "        \"-l ncpus=\" + str(cores),\n",
    "        \"-l mem=\" + str(memory),\n",
    "        \"-P xv83\",\n",
    "        \"-l jobfs=100GB\",\n",
    "        \"-l storage=gdata/xv83\",\n",
    "    ],\n",
    "    local_directory=\"$PBS_JOBFS\",\n",
    "    header_skip=[\"select\"],\n",
    ")\n",
    "\n",
    "cluster.scale(jobs=1)\n",
    "client = Client(cluster)\n",
    "print(f\"Dask daskboard link: {client.dashboard_link}\")"
   ]
  },
  {
   "cell_type": "markdown",
   "id": "d4ea8d81-f3ea-4809-91f5-b8167b04a15b",
   "metadata": {},
   "source": [
    "## Develop on some AGCD data"
   ]
  },
  {
   "cell_type": "code",
   "execution_count": 12,
   "id": "ceba7aa2-99b7-4c17-ae94-77a1dce80dd7",
   "metadata": {},
   "outputs": [],
   "source": [
    "prep_data = False\n",
    "\n",
    "if prep_data:\n",
    "    agcd = _open.AGCD([\"precip\", \"tmax\"], None, None)\n",
    "\n",
    "    precip = (\n",
    "        agcd[[\"precip\"]]\n",
    "        .sel(time=slice(\"1960\", None))\n",
    "        .chunk({\"time\": -1, \"lat\": 20, \"lon\": 20})\n",
    "    )\n",
    "    precip.to_zarr(\"agcd_precip.zarr\", mode=\"w\")\n",
    "\n",
    "    tmax = (\n",
    "        agcd[[\"tmax\"]]\n",
    "        .sel(time=slice(\"1960\", None))\n",
    "        .chunk({\"time\": -1, \"lat\": 20, \"lon\": 20})\n",
    "    )\n",
    "    tmax.to_zarr(\"agcd_tmax.zarr\", mode=\"w\")\n",
    "\n",
    "precip = xr.open_zarr(\"agcd_precip.zarr\")\n",
    "tmax = xr.open_zarr(\"agcd_tmax.zarr\")"
   ]
  },
  {
   "cell_type": "markdown",
   "id": "d6e81ae3-866c-4e63-b380-1cb16a916d50",
   "metadata": {
    "tags": []
   },
   "source": [
    "## Calculate KBDI"
   ]
  },
  {
   "cell_type": "code",
   "execution_count": 14,
   "id": "0327c1af-1d13-44dd-8e39-6c7ac520718a",
   "metadata": {},
   "outputs": [],
   "source": [
    "from numba import jit\n",
    "import dask.array as dsa\n",
    "\n",
    "\n",
    "def calculate_KBDI(precip, tmax, precip_annual, use_precip_from_previous_day=False):\n",
    "    \"\"\"\n",
    "    Calculate the Keetch-Byram drought index, defined as:\n",
    "\n",
    "        KBDI_n = KBDI_n-1 − Peff + ET\n",
    "\n",
    "    Peff is the previous 24-hour rainfall amount, precip_n, decreased by an amount to allow\n",
    "    for interception and/or runoff:\n",
    "\n",
    "        Peff = precip_n - (interception/runoff)\n",
    "\n",
    "    where the interception and/or runoff is approximated as the first 5 mm within consecutive\n",
    "    days with nonzero rainfall.\n",
    "\n",
    "    ET is the evapotransporation, estimated as:\n",
    "\n",
    "        ET = (203.2 - KBDI_n-1) * (0.968 * exp(0.0875 * tmax_n-1 + 1.5552) - 8.3)\n",
    "             -------------------------------------------------------------------- * 10 ** (-3)\n",
    "                          1 + 10.88 * exp(-0.00173 * precip_annual)\n",
    "\n",
    "    where tmax_n-1 is the previous day's max temperature and precip_annual is the mean annual\n",
    "    rainfall.\n",
    "\n",
    "    Parameters\n",
    "    ----------\n",
    "    precip : numpy array with shape [..., N]\n",
    "        Array of daily precipitation with the last axes corresponding to the time dimension\n",
    "    tmax : numpy array with shape [..., N]\n",
    "        Array of max daily temperature with the last axes corresponding to the time dimension\n",
    "    precip_annual : numpy array with shape [...]\n",
    "        Array containing the mean annual rainfall. Usually this is computed as the average over\n",
    "        a period of years corresponding the calculation period of the KBDI\n",
    "    use_precip_from_previous_day : boolean, optional\n",
    "        If True, use precip_n-1 to calculate KBDI_n. If False (default) use precip_n to calculate\n",
    "        KBDI_n. See Notes below.\n",
    "\n",
    "    Notes\n",
    "    -----\n",
    "    Daily values represent different things in different datasets. For example:\n",
    "      - the daily precipitation values in AGCD represent the previous 24-hour rainfall at 9am\n",
    "        and the daily tmax/tmin values represent the max/min temperatures over the subsequent\n",
    "        24-hours from 9am. Thus it is appropriate to use precip_n and t_max_n-1 as above in\n",
    "        order to calculate KBDI_n from the previous 24-hour rainfaill and previous day's max\n",
    "        temperature.\n",
    "      - both the daily precipitation and daily max temperature values are assigned to 12pm on\n",
    "        a given day in CAFE and correspond to the 24-hour period centred on that time. Thus,\n",
    "        one could argue that it is appropriate to use precip_n-1 and t_max_n-1 (or precip_n\n",
    "        and tmax_n) to calculate KBDI_n.\n",
    "      - Daily reanalysis data (e.g. JRA55) is otfen referenced against the inital forecast\n",
    "        time and the precip and tmax values correspond to the 24-hour period subsequent to the\n",
    "        reference time. Thus, it is appropriate to use precip_n-1 and tmax_n-1 to calculate\n",
    "        KBDI_n.\n",
    "\n",
    "    References\n",
    "    ----------\n",
    "    Finkele et al. 2006 (on calculation):\n",
    "        https://webarchive.nla.gov.au/awa/20060903105143/http://www.bom.gov.au/bmrc/pubs/researchreports/RR119.pdf\n",
    "    Holgate et al. 2017 (on calculation):\n",
    "        https://www.publish.csiro.au/wf/WF16217\n",
    "    Dolling et al. 2005 (on initialisation):\n",
    "        https://www.sciencedirect.com/science/article/pii/S0168192305001802#bib5\n",
    "    \"\"\"\n",
    "\n",
    "    @jit(nopython=True)\n",
    "    def _calculate_KBDI(precip, tmax, precip_annual, use_precip_from_previous_day):\n",
    "        \"\"\"\n",
    "        Workhorse function to calculate the KBDI\n",
    "\n",
    "        Parameters\n",
    "        ----------\n",
    "        precip : numpy array with shape [..., N]\n",
    "            Array of daily precipitation with the last axes corresponding to the time dimension\n",
    "        tmax : numpy array with shape [..., N]\n",
    "            Array of max daily temperature with the last axes corresponding to the time dimension\n",
    "        precip_annual : numpy array with shape [...]\n",
    "            Array containing the mean annual rainfall. Usually this is computed as the average over\n",
    "            a period of years corresponding the calculation period of the KBDI\n",
    "        use_precip_from_previous_day : boolean, optional\n",
    "            If True, use precip_n-1 to calculate KBDI_n. If False (default) use precip_n to calculate\n",
    "            KBDI_n.\n",
    "\n",
    "        Note, I tried writing a version of this function using dask='allowed', rather than\n",
    "        dask='parallelized', which is generally a better approach. However, the code relied on hacks\n",
    "        to use apply_gufunc or map_blocks, so I opted for this simpler approach instead. See\n",
    "        https://github.com/dougiesquire/Squire_2022_CAFE-f6/blob/1c3743d99d564a031710d03bfffe8995b3cde3f4/\n",
    "            notebooks/exploratory/calculate_KBDI.ipynb\n",
    "        \"\"\"\n",
    "\n",
    "        def calculate_Peff(precip, remaining_runoff):\n",
    "            \"\"\"\n",
    "            Return Peff term in the KBDI and the remaining runoff from the daily\n",
    "            rainfall\n",
    "            \"\"\"\n",
    "            remaining_runoff = np.where(precip > 0, remaining_runoff, 5.0)\n",
    "            runoff = np.where(precip < remaining_runoff, precip, remaining_runoff)\n",
    "            Peff = precip - runoff\n",
    "            return Peff, remaining_runoff - runoff\n",
    "\n",
    "        def calculate_ET(KBDI_prev, tmax_prev, precip_annual):\n",
    "            \"\"\"\n",
    "            Return evapotransporation (ET) term in the KBDI\n",
    "            \"\"\"\n",
    "            term_1 = 203.2 - KBDI_prev\n",
    "            term_2 = 0.968 * np.exp(0.0875 * tmax_prev + 1.5552) - 8.3\n",
    "            term_3 = 1 + 10.88 * np.exp(-0.00173 * precip_annual)\n",
    "            return 1e-3 * term_1 * term_2 / term_3\n",
    "\n",
    "        KBDI = np.zeros_like(precip)\n",
    "\n",
    "        remaining_runoff = 5.0 * np.ones_like(precip[..., 0])\n",
    "        if not use_precip_from_previous_day:\n",
    "            _, remaining_runoff = calculate_Peff(precip[..., 0], remaining_runoff)\n",
    "\n",
    "        for i in range(1, KBDI.shape[-1]):\n",
    "            precip_curr = (\n",
    "                precip[..., i - 1] if use_precip_from_previous_day else precip[..., i]\n",
    "            )\n",
    "            Peff, remaining_runoff = calculate_Peff(precip_curr, remaining_runoff)\n",
    "            ET = calculate_ET(KBDI[..., i - 1], tmax[..., i - 1], precip_annual)\n",
    "            KBDI_curr = KBDI[..., i - 1] - Peff + ET\n",
    "            KBDI[..., i] = np.where(KBDI_curr < 0, 0, KBDI_curr)\n",
    "\n",
    "        return KBDI\n",
    "\n",
    "    KBDI = xr.apply_ufunc(\n",
    "        _calculate_KBDI,\n",
    "        precip,\n",
    "        tmax,\n",
    "        precip_annual,\n",
    "        use_precip_from_previous_day,\n",
    "        input_core_dims=[[\"time\"], [\"time\"], [], []],\n",
    "        output_core_dims=[[\"time\"]],\n",
    "        dask=\"parallelized\",\n",
    "        output_dtypes=[precip.dtype],\n",
    "    )\n",
    "\n",
    "    KBDI = KBDI.rename(\"KBDI\")\n",
    "    KBDI.attrs[\"long_name\"] = \"Keetch-Byram Drought Index (KBDI)\"\n",
    "    KBDI.attrs[\"standard_name\"] = \"Keetch-Byram Drought Index\"\n",
    "\n",
    "    return KBDI"
   ]
  },
  {
   "cell_type": "code",
   "execution_count": 20,
   "id": "bdfa0c1d-6254-4ea7-a56f-4b84528f76d2",
   "metadata": {},
   "outputs": [
    {
     "name": "stdout",
     "output_type": "stream",
     "text": [
      "CPU times: user 7.03 ms, sys: 125 µs, total: 7.15 ms\n",
      "Wall time: 7.83 ms\n"
     ]
    }
   ],
   "source": [
    "%%time\n",
    "\n",
    "prep_data = False\n",
    "\n",
    "if prep_data:\n",
    "    precip_annual = precip.resample(time=\"A\").sum().mean(\"time\")\n",
    "\n",
    "    KBDI = calculate_KBDI(\n",
    "        precip[\"precip\"],\n",
    "        tmax[\"tmax\"],\n",
    "        precip_annual[\"precip\"],\n",
    "    ).to_dataset()\n",
    "\n",
    "    KBDI.to_zarr(\"agcd_KBDI.zarr\", mode=\"w\")\n",
    "\n",
    "KBDI = xr.open_zarr(\"agcd_KBDI.zarr\")"
   ]
  },
  {
   "cell_type": "code",
   "execution_count": 22,
   "id": "fed5ddfc-3ea0-44fc-835b-5a7a61cceae8",
   "metadata": {},
   "outputs": [
    {
     "data": {
      "image/png": "[encoded data removed]",
      "text/plain": [
       "<Figure size 720x1080 with 7 Axes>"
      ]
     },
     "metadata": {
      "needs_background": "light"
     },
     "output_type": "display_data"
    }
   ],
   "source": [
    "locations = [\n",
    "    {\"lon\": 146.4, \"lat\": -34.6},\n",
    "    {\"lon\": 148.2, \"lat\": -32.7},\n",
    "    {\"lon\": 145.2, \"lat\": -36.9},\n",
    "    {\"lon\": 133.6, \"lat\": -22.5},\n",
    "    {\"lon\": 132.4, \"lat\": -14.5},\n",
    "    {\"lon\": 148.2, \"lat\": -23.6},\n",
    "    {\"lon\": 146.3, \"lat\": -20.0},\n",
    "]\n",
    "\n",
    "fig, axs = plt.subplots(len(locations), 1, sharex=True, figsize=(10, 15))\n",
    "for ax, loc in zip(axs, locations):\n",
    "    KBDI[\"KBDI\"].sel(loc, method=\"nearest\").sel(time=slice(\"2010\", \"2014\")).plot(\n",
    "        ax=ax, color=\"k\"\n",
    "    )\n",
    "    ax.set_ylim(0, 203.5)\n",
    "    ax.set_title(\"\")\n",
    "    ax.set_xlabel(\"\")\n",
    "    ax.set_ylabel(\"KBDI\")"
   ]
  },
  {
   "cell_type": "markdown",
   "id": "0512546a-e487-49ec-839a-bb5f55654517",
   "metadata": {},
   "source": [
    "## Calculate Drought factor"
   ]
  },
  {
   "cell_type": "code",
   "execution_count": 169,
   "id": "4846e902-fddf-4114-bcdc-a096930cacb4",
   "metadata": {},
   "outputs": [],
   "source": [
    "def calculate_drought_factor(SMD, precip, limiting_function=None):\n",
    "    \"\"\"\n",
    "    Calculate the Griffiths (1998) drought factor based on the soil moisture deficit:\n",
    "\n",
    "        DF = 10.5 * (1 - exp(-(SMD + 30) / 40)) *  41 x**2 + x\n",
    "                                                 ---------------\n",
    "                                                 40*x**2 + x + 1\n",
    "\n",
    "    Parameters\n",
    "    ----------\n",
    "    SMD : xarray DataArray\n",
    "        Values of the daily soil moisture deficit (often KBDI)\n",
    "    precip : xarray DataArray\n",
    "        Values of daily precipitation.\n",
    "    limiting_function : str, optional\n",
    "        The approach to use to limit the values of the drought factor. Options are:\n",
    "        - None; x is estimated from the rainfall over the previous 20 days and the time\n",
    "          since it fell:\n",
    "                      N**1.3\n",
    "                  --------------    if N >= 1 & P > 2mm\n",
    "                  N**1.3 + P - 2\n",
    "              x =     0.8**1.3\n",
    "                  ----------------  if N = 0  & P > 2mm\n",
    "                  0.8**1.3 + P - 2\n",
    "                         1          if P < 2mm\n",
    "          see Finkele et al. 2006 for details on how P and N are estimated from daily rainfall\n",
    "        - 'xlim'; x is estimated as above and limited to:\n",
    "                            1\n",
    "                     ----------------       if SMD < 20\n",
    "                     1 + 0.1135 * SMD\n",
    "              xlim =        75\n",
    "                     ---------------------  if SMD >= 20\n",
    "                     270.525 - 1.267 * SMD\n",
    "        - 'discrete'; x is estimated as above but the resulting drought factor is limited to the\n",
    "          following values:\n",
    "                   6   if 0   <  SMD < 25\n",
    "                   7   if 25  <= SMD < 42\n",
    "              DF = 8   if 42  <= SMD < 65\n",
    "                   9   if 65  <= SMD < 100\n",
    "                   10  if 100 <= SMD < 200\n",
    "    \"\"\"\n",
    "\n",
    "    def _calculate_x(precip_windows):\n",
    "        \"\"\"Return the minimum value of the x function for a given preciptation window\"\"\"\n",
    "\n",
    "        def _x_function(P, N):\n",
    "            \"\"\"\n",
    "            Calculate x from the accumulated rainfall within an event and the number\n",
    "            of days N since the large daily rainfall in that event\n",
    "            \"\"\"\n",
    "            x = (N**1.3) / (N**1.3 + P - 2.0)\n",
    "            x = np.where(N == 0.0, (0.8**1.3) / (0.8**1.3 + P - 2.0), x)\n",
    "            x = np.where(P <= 2.0, 1.0, x)\n",
    "            return x\n",
    "\n",
    "        # Label events (consecutive elements with P > 2) along the window axis\n",
    "        events = precip_windows > 2\n",
    "        labelled_events = np.where(\n",
    "            events, np.cumsum(events, axis=-1, dtype=np.int32), 0\n",
    "        )\n",
    "        shifted_events = np.where(events[..., :-1], events[..., 1:], False)\n",
    "        label_correction = np.where(\n",
    "            events[..., 1:], np.cumsum(shifted_events, axis=-1, dtype=np.int32), 0\n",
    "        )\n",
    "        labelled_events[..., 1:] = labelled_events[..., 1:] - label_correction\n",
    "        print(labelled_events)\n",
    "\n",
    "        # Loop over all events and compute the minimum x\n",
    "        # 10 is the max number of events in a 10-day period - need to hard-code this\n",
    "        # rather than use np.max(labelled_events) as the latter will trigger computation\n",
    "        print(labelled_events)\n",
    "        max_events = 10\n",
    "        for label in range(1, max_events + 1):\n",
    "            P = np.sum(np.where(labelled_events == label, precip_windows, 0), axis=-1)\n",
    "            N = 20 - np.argmax(\n",
    "                np.where(labelled_events == label, precip_windows, 0), axis=-1\n",
    "            )\n",
    "            if label == 1:\n",
    "                x = _x_function(P, N)\n",
    "            else:\n",
    "                x = np.minimum(x, _x_function(P, N))\n",
    "\n",
    "        return x\n",
    "\n",
    "    def _calculate_DF(SMD, x):\n",
    "        \"\"\"Calculate the drought factor using the Griffiths formula\"\"\"\n",
    "        term_1 = 10.5 * (1 - np.exp(-(SMD + 30) / 40))\n",
    "        term_2 = 41 * x**2 + x\n",
    "        term_3 = 40 * x**2 + x + 1\n",
    "        return term_1 * term_2 / term_3\n",
    "\n",
    "    def _apply_limits(x, limits):\n",
    "        \"\"\"\n",
    "        Apply limit on x, where limits is a list of conditions and corresponding\n",
    "        limits, e.g. [(condition_1, limit_1), (condition_2, limit_2)...]\n",
    "        \"\"\"\n",
    "        for condition, limit in limits:\n",
    "            x = xr.where(condition & (x > limit), limit, x)\n",
    "        return x\n",
    "\n",
    "    def _apply_xlim(x, SMD):\n",
    "        \"\"\"Limit x using the 'xlim' function\"\"\"\n",
    "        cond_1 = (SMD < 20, 1 / (1 + 0.1135 * SMD))\n",
    "        cond_2 = (SMD >= 20, 75 / (270.525 - 1.267 * SMD))\n",
    "        return _apply_limits(x, [cond_1, cond_2])\n",
    "\n",
    "    def _apply_discrete(DF, SMD):\n",
    "        \"\"\"Limit DF using the 'discrete' function\"\"\"\n",
    "        cond_1 = ((SMD > 0) & (SMD < 25), 6)\n",
    "        cond_2 = ((SMD >= 25) & (SMD < 42), 7)\n",
    "        cond_3 = ((SMD >= 42) & (SMD < 65), 8)\n",
    "        cond_4 = ((SMD >= 65) & (SMD < 100), 9)\n",
    "        cond_5 = ((SMD >= 100) & (SMD < 200), 10)\n",
    "        return _apply_limits(DF, [cond_1, cond_2, cond_3, cond_4, cond_5])\n",
    "\n",
    "    x = xr.apply_ufunc(\n",
    "        _calculate_x,\n",
    "        precip.rolling(time=20, min_periods=20).construct(window_dim=\"window\"),\n",
    "        input_core_dims=[[\"window\"]],\n",
    "        dask=\"allowed\",\n",
    "    )\n",
    "\n",
    "    if limiting_function is None:\n",
    "        DF = _calculate_DF(SMD, x)\n",
    "    elif limiting_function == \"xlim\":\n",
    "        DF = _calculate_DF(SMD, _apply_xlim(x, SMD))\n",
    "    elif limiting_function == \"discrete\":\n",
    "        DF = _apply_discrete(_calculate_DF(SMD, x), SMD)\n",
    "\n",
    "    DF = DF.rename(\"DF\")\n",
    "    DF.attrs[\"long_name\"] = \"Griffiths Drought Factor (DF)\"\n",
    "    DF.attrs[\"standard_name\"] = \"drought_factor\"\n",
    "\n",
    "    return DF"
   ]
  },
  {
   "cell_type": "code",
   "execution_count": 139,
   "id": "a737d4eb-b77d-4be8-b1cd-fa4b250e3880",
   "metadata": {},
   "outputs": [],
   "source": [
    "KBDI_test = KBDI[\"KBDI\"].sel(locations[0])\n",
    "precip_test = precip[\"precip\"].sel(locations[0])"
   ]
  },
  {
   "cell_type": "code",
   "execution_count": 140,
   "id": "c24e5f4e-15dc-49ca-8ff0-07172c15b8e5",
   "metadata": {},
   "outputs": [
    {
     "name": "stdout",
     "output_type": "stream",
     "text": [
      "CPU times: user 350 ms, sys: 829 µs, total: 350 ms\n",
      "Wall time: 345 ms\n"
     ]
    }
   ],
   "source": [
    "%%time\n",
    "a = calculate_drought_factor(KBDI_test, precip=precip_test)\n",
    "b = calculate_drought_factor(KBDI_test, precip=precip_test, limiting_function=\"xlim\")\n",
    "c = calculate_drought_factor(\n",
    "    KBDI_test, precip=precip_test, limiting_function=\"discrete\"\n",
    ")"
   ]
  },
  {
   "cell_type": "code",
   "execution_count": 141,
   "id": "94d6c6d6-e471-44fb-95ac-48bbf3fb588e",
   "metadata": {},
   "outputs": [
    {
     "data": {
      "text/plain": [
       "[<matplotlib.lines.Line2D at 0x1554c4dd7b80>]"
      ]
     },
     "execution_count": 141,
     "metadata": {},
     "output_type": "execute_result"
    },
    {
     "data": {
      "image/png": "[encoded data removed]",
      "text/plain": [
       "<Figure size 432x288 with 1 Axes>"
      ]
     },
     "metadata": {
      "needs_background": "light"
     },
     "output_type": "display_data"
    }
   ],
   "source": [
    "plt.plot(KBDI_test, a, \"ko\")\n",
    "plt.plot(KBDI_test, b, \"bo\")\n",
    "plt.plot(KBDI_test, c, \"ro\")"
   ]
  },
  {
   "cell_type": "markdown",
   "id": "72254a09-b86e-4949-9b88-c57cbd30df2f",
   "metadata": {},
   "source": [
    "## How does this run on the full dataset?"
   ]
  },
  {
   "cell_type": "code",
   "execution_count": 158,
   "id": "35890964-d1d3-4910-a7bd-b8b17433bda5",
   "metadata": {},
   "outputs": [
    {
     "data": {
      "text/plain": [
       "1032.9835113883018"
      ]
     },
     "execution_count": 158,
     "metadata": {},
     "output_type": "execute_result"
    }
   ],
   "source": [
    "(22646 * 691 * 886 * 20 * 4) / 1024**3"
   ]
  },
  {
   "cell_type": "code",
   "execution_count": 159,
   "id": "c51da511-3f01-4324-bc37-2d75ff0262a9",
   "metadata": {},
   "outputs": [
    {
     "data": {
      "text/plain": [
       "2.699613571166992"
      ]
     },
     "execution_count": 159,
     "metadata": {},
     "output_type": "execute_result"
    }
   ],
   "source": [
    "(22646 * 40 * 40 * 20 * 4) / 1024**3"
   ]
  },
  {
   "cell_type": "code",
   "execution_count": 170,
   "id": "50c1f5ee-c310-40ad-ac25-0e2aa8e6954a",
   "metadata": {},
   "outputs": [
    {
     "name": "stdout",
     "output_type": "stream",
     "text": [
      "1032.9835113883018\n",
      "dask.array<setitem, shape=(22646, 691, 886, 20), dtype=int32, chunksize=(22646, 40, 40, 20), chunktype=numpy.ndarray>\n",
      "dask.array<setitem, shape=(22646, 691, 886, 20), dtype=int32, chunksize=(22646, 40, 40, 20), chunktype=numpy.ndarray>\n"
     ]
    },
    {
     "name": "stderr",
     "output_type": "stream",
     "text": [
      "Task exception was never retrieved\n",
      "future: <Task finished name='Task-103915' coro=<Client._gather.<locals>.wait() done, defined at /datasets/work/oa-dcfp/work/squ027/.conda/envs/forecast_analysis/lib/python3.9/site-packages/distributed/client.py:1978> exception=AllExit()>\n",
      "Traceback (most recent call last):\n",
      "  File \"/datasets/work/oa-dcfp/work/squ027/.conda/envs/forecast_analysis/lib/python3.9/site-packages/distributed/client.py\", line 1983, in wait\n",
      "    raise AllExit()\n",
      "distributed.client.AllExit\n"
     ]
    },
    {
     "name": "stdout",
     "output_type": "stream",
     "text": [
      "CPU times: user 8.94 s, sys: 113 ms, total: 9.05 s\n",
      "Wall time: 8.99 s\n"
     ]
    }
   ],
   "source": [
    "%%time\n",
    "a = calculate_drought_factor(\n",
    "    KBDI[\"KBDI\"],\n",
    "    precip[\"precip\"],\n",
    "    limiting_function=\"xlim\",\n",
    ")"
   ]
  },
  {
   "cell_type": "code",
   "execution_count": 144,
   "id": "d29e000d-209c-4ec0-b888-2fb69245e313",
   "metadata": {},
   "outputs": [
    {
     "data": {
      "text/plain": [
       "[<matplotlib.lines.Line2D at 0x1554c388ac10>]"
      ]
     },
     "execution_count": 144,
     "metadata": {},
     "output_type": "execute_result"
    },
    {
     "data": {
      "image/png": "[encoded data removed]",
      "text/plain": [
       "<Figure size 432x288 with 1 Axes>"
      ]
     },
     "metadata": {
      "needs_background": "light"
     },
     "output_type": "display_data"
    }
   ],
   "source": [
    "a.sel(locations[0]).plot()"
   ]
  },
  {
   "cell_type": "code",
   "execution_count": 113,
   "id": "27c8c340-9eea-4a10-a59f-3cf65c785919",
   "metadata": {
    "tags": []
   },
   "outputs": [
    {
     "name": "stdout",
     "output_type": "stream",
     "text": [
      "1032.9835113883018\n"
     ]
    },
    {
     "ename": "KeyboardInterrupt",
     "evalue": "",
     "output_type": "error",
     "traceback": [
      "\u001b[0;31m---------------------------------------------------------------------------\u001b[0m",
      "\u001b[0;31mKeyboardInterrupt\u001b[0m                         Traceback (most recent call last)",
      "File \u001b[0;32m<timed exec>:4\u001b[0m, in \u001b[0;36m<module>\u001b[0;34m\u001b[0m\n",
      "Input \u001b[0;32mIn [112]\u001b[0m, in \u001b[0;36mcalculate_drought_factor\u001b[0;34m(SMD, precip, limiting_function)\u001b[0m\n\u001b[1;32m    109\u001b[0m     cond_5 \u001b[38;5;241m=\u001b[39m ((SMD \u001b[38;5;241m>\u001b[39m\u001b[38;5;241m=\u001b[39m \u001b[38;5;241m100\u001b[39m) \u001b[38;5;241m&\u001b[39m (SMD \u001b[38;5;241m<\u001b[39m \u001b[38;5;241m200\u001b[39m), \u001b[38;5;241m10\u001b[39m)\n\u001b[1;32m    110\u001b[0m     \u001b[38;5;28;01mreturn\u001b[39;00m _apply_limits(DF, [cond_1, cond_2, cond_3, cond_4, cond_5])\n\u001b[0;32m--> 112\u001b[0m x \u001b[38;5;241m=\u001b[39m \u001b[43mxr\u001b[49m\u001b[38;5;241;43m.\u001b[39;49m\u001b[43mapply_ufunc\u001b[49m\u001b[43m(\u001b[49m\n\u001b[1;32m    113\u001b[0m \u001b[43m    \u001b[49m\u001b[43m_calculate_x\u001b[49m\u001b[43m,\u001b[49m\n\u001b[1;32m    114\u001b[0m \u001b[43m    \u001b[49m\u001b[43mprecip\u001b[49m\u001b[38;5;241;43m.\u001b[39;49m\u001b[43mrolling\u001b[49m\u001b[43m(\u001b[49m\u001b[43mtime\u001b[49m\u001b[38;5;241;43m=\u001b[39;49m\u001b[38;5;241;43m20\u001b[39;49m\u001b[43m,\u001b[49m\u001b[43m \u001b[49m\u001b[43mmin_periods\u001b[49m\u001b[38;5;241;43m=\u001b[39;49m\u001b[38;5;241;43m20\u001b[39;49m\u001b[43m)\u001b[49m\u001b[38;5;241;43m.\u001b[39;49m\u001b[43mconstruct\u001b[49m\u001b[43m(\u001b[49m\u001b[43mwindow_dim\u001b[49m\u001b[38;5;241;43m=\u001b[39;49m\u001b[38;5;124;43m\"\u001b[39;49m\u001b[38;5;124;43mwindow\u001b[39;49m\u001b[38;5;124;43m\"\u001b[39;49m\u001b[43m)\u001b[49m\u001b[43m,\u001b[49m\n\u001b[1;32m    115\u001b[0m \u001b[43m    \u001b[49m\u001b[43minput_core_dims\u001b[49m\u001b[38;5;241;43m=\u001b[39;49m\u001b[43m[\u001b[49m\u001b[43m[\u001b[49m\u001b[38;5;124;43m\"\u001b[39;49m\u001b[38;5;124;43mwindow\u001b[39;49m\u001b[38;5;124;43m\"\u001b[39;49m\u001b[43m]\u001b[49m\u001b[43m]\u001b[49m\u001b[43m,\u001b[49m\n\u001b[1;32m    116\u001b[0m \u001b[43m    \u001b[49m\u001b[43mdask\u001b[49m\u001b[38;5;241;43m=\u001b[39;49m\u001b[38;5;124;43m\"\u001b[39;49m\u001b[38;5;124;43mallowed\u001b[39;49m\u001b[38;5;124;43m\"\u001b[39;49m\u001b[43m,\u001b[49m\n\u001b[1;32m    117\u001b[0m \u001b[43m\u001b[49m\u001b[43m)\u001b[49m\n\u001b[1;32m    119\u001b[0m \u001b[38;5;28;01mif\u001b[39;00m limiting_function \u001b[38;5;129;01mis\u001b[39;00m \u001b[38;5;28;01mNone\u001b[39;00m:\n\u001b[1;32m    120\u001b[0m     DF \u001b[38;5;241m=\u001b[39m _calculate_DF(SMD, x)\n",
      "File \u001b[0;32m/datasets/work/oa-dcfp/work/squ027/.conda/envs/forecast_analysis/lib/python3.9/site-packages/xarray/core/computation.py:1159\u001b[0m, in \u001b[0;36mapply_ufunc\u001b[0;34m(func, input_core_dims, output_core_dims, exclude_dims, vectorize, join, dataset_join, dataset_fill_value, keep_attrs, kwargs, dask, output_dtypes, output_sizes, meta, dask_gufunc_kwargs, *args)\u001b[0m\n\u001b[1;32m   1157\u001b[0m \u001b[38;5;66;03m# feed DataArray apply_variable_ufunc through apply_dataarray_vfunc\u001b[39;00m\n\u001b[1;32m   1158\u001b[0m \u001b[38;5;28;01melif\u001b[39;00m \u001b[38;5;28many\u001b[39m(\u001b[38;5;28misinstance\u001b[39m(a, DataArray) \u001b[38;5;28;01mfor\u001b[39;00m a \u001b[38;5;129;01min\u001b[39;00m args):\n\u001b[0;32m-> 1159\u001b[0m     \u001b[38;5;28;01mreturn\u001b[39;00m \u001b[43mapply_dataarray_vfunc\u001b[49m\u001b[43m(\u001b[49m\n\u001b[1;32m   1160\u001b[0m \u001b[43m        \u001b[49m\u001b[43mvariables_vfunc\u001b[49m\u001b[43m,\u001b[49m\n\u001b[1;32m   1161\u001b[0m \u001b[43m        \u001b[49m\u001b[38;5;241;43m*\u001b[39;49m\u001b[43margs\u001b[49m\u001b[43m,\u001b[49m\n\u001b[1;32m   1162\u001b[0m \u001b[43m        \u001b[49m\u001b[43msignature\u001b[49m\u001b[38;5;241;43m=\u001b[39;49m\u001b[43msignature\u001b[49m\u001b[43m,\u001b[49m\n\u001b[1;32m   1163\u001b[0m \u001b[43m        \u001b[49m\u001b[43mjoin\u001b[49m\u001b[38;5;241;43m=\u001b[39;49m\u001b[43mjoin\u001b[49m\u001b[43m,\u001b[49m\n\u001b[1;32m   1164\u001b[0m \u001b[43m        \u001b[49m\u001b[43mexclude_dims\u001b[49m\u001b[38;5;241;43m=\u001b[39;49m\u001b[43mexclude_dims\u001b[49m\u001b[43m,\u001b[49m\n\u001b[1;32m   1165\u001b[0m \u001b[43m        \u001b[49m\u001b[43mkeep_attrs\u001b[49m\u001b[38;5;241;43m=\u001b[39;49m\u001b[43mkeep_attrs\u001b[49m\u001b[43m,\u001b[49m\n\u001b[1;32m   1166\u001b[0m \u001b[43m    \u001b[49m\u001b[43m)\u001b[49m\n\u001b[1;32m   1167\u001b[0m \u001b[38;5;66;03m# feed Variables directly through apply_variable_ufunc\u001b[39;00m\n\u001b[1;32m   1168\u001b[0m \u001b[38;5;28;01melif\u001b[39;00m \u001b[38;5;28many\u001b[39m(\u001b[38;5;28misinstance\u001b[39m(a, Variable) \u001b[38;5;28;01mfor\u001b[39;00m a \u001b[38;5;129;01min\u001b[39;00m args):\n",
      "File \u001b[0;32m/datasets/work/oa-dcfp/work/squ027/.conda/envs/forecast_analysis/lib/python3.9/site-packages/xarray/core/computation.py:286\u001b[0m, in \u001b[0;36mapply_dataarray_vfunc\u001b[0;34m(func, signature, join, exclude_dims, keep_attrs, *args)\u001b[0m\n\u001b[1;32m    281\u001b[0m result_coords \u001b[38;5;241m=\u001b[39m build_output_coords(\n\u001b[1;32m    282\u001b[0m     args, signature, exclude_dims, combine_attrs\u001b[38;5;241m=\u001b[39mkeep_attrs\n\u001b[1;32m    283\u001b[0m )\n\u001b[1;32m    285\u001b[0m data_vars \u001b[38;5;241m=\u001b[39m [\u001b[38;5;28mgetattr\u001b[39m(a, \u001b[38;5;124m\"\u001b[39m\u001b[38;5;124mvariable\u001b[39m\u001b[38;5;124m\"\u001b[39m, a) \u001b[38;5;28;01mfor\u001b[39;00m a \u001b[38;5;129;01min\u001b[39;00m args]\n\u001b[0;32m--> 286\u001b[0m result_var \u001b[38;5;241m=\u001b[39m \u001b[43mfunc\u001b[49m\u001b[43m(\u001b[49m\u001b[38;5;241;43m*\u001b[39;49m\u001b[43mdata_vars\u001b[49m\u001b[43m)\u001b[49m\n\u001b[1;32m    288\u001b[0m \u001b[38;5;28;01mif\u001b[39;00m signature\u001b[38;5;241m.\u001b[39mnum_outputs \u001b[38;5;241m>\u001b[39m \u001b[38;5;241m1\u001b[39m:\n\u001b[1;32m    289\u001b[0m     out \u001b[38;5;241m=\u001b[39m \u001b[38;5;28mtuple\u001b[39m(\n\u001b[1;32m    290\u001b[0m         DataArray(variable, coords, name\u001b[38;5;241m=\u001b[39mname, fastpath\u001b[38;5;241m=\u001b[39m\u001b[38;5;28;01mTrue\u001b[39;00m)\n\u001b[1;32m    291\u001b[0m         \u001b[38;5;28;01mfor\u001b[39;00m variable, coords \u001b[38;5;129;01min\u001b[39;00m \u001b[38;5;28mzip\u001b[39m(result_var, result_coords)\n\u001b[1;32m    292\u001b[0m     )\n",
      "File \u001b[0;32m/datasets/work/oa-dcfp/work/squ027/.conda/envs/forecast_analysis/lib/python3.9/site-packages/xarray/core/computation.py:727\u001b[0m, in \u001b[0;36mapply_variable_ufunc\u001b[0;34m(func, signature, exclude_dims, dask, output_dtypes, vectorize, keep_attrs, dask_gufunc_kwargs, *args)\u001b[0m\n\u001b[1;32m    722\u001b[0m     \u001b[38;5;28;01mif\u001b[39;00m vectorize:\n\u001b[1;32m    723\u001b[0m         func \u001b[38;5;241m=\u001b[39m _vectorize(\n\u001b[1;32m    724\u001b[0m             func, signature, output_dtypes\u001b[38;5;241m=\u001b[39moutput_dtypes, exclude_dims\u001b[38;5;241m=\u001b[39mexclude_dims\n\u001b[1;32m    725\u001b[0m         )\n\u001b[0;32m--> 727\u001b[0m result_data \u001b[38;5;241m=\u001b[39m \u001b[43mfunc\u001b[49m\u001b[43m(\u001b[49m\u001b[38;5;241;43m*\u001b[39;49m\u001b[43minput_data\u001b[49m\u001b[43m)\u001b[49m\n\u001b[1;32m    729\u001b[0m \u001b[38;5;28;01mif\u001b[39;00m signature\u001b[38;5;241m.\u001b[39mnum_outputs \u001b[38;5;241m==\u001b[39m \u001b[38;5;241m1\u001b[39m:\n\u001b[1;32m    730\u001b[0m     result_data \u001b[38;5;241m=\u001b[39m (result_data,)\n",
      "Input \u001b[0;32mIn [112]\u001b[0m, in \u001b[0;36mcalculate_drought_factor.<locals>._calculate_x\u001b[0;34m(precip_windows)\u001b[0m\n\u001b[1;32m     61\u001b[0m shifted_events \u001b[38;5;241m=\u001b[39m np\u001b[38;5;241m.\u001b[39mwhere(events[\u001b[38;5;241m.\u001b[39m\u001b[38;5;241m.\u001b[39m\u001b[38;5;241m.\u001b[39m, :\u001b[38;5;241m-\u001b[39m\u001b[38;5;241m1\u001b[39m], events[\u001b[38;5;241m.\u001b[39m\u001b[38;5;241m.\u001b[39m\u001b[38;5;241m.\u001b[39m, \u001b[38;5;241m1\u001b[39m:], \u001b[38;5;28;01mFalse\u001b[39;00m)\n\u001b[1;32m     62\u001b[0m label_correction \u001b[38;5;241m=\u001b[39m np\u001b[38;5;241m.\u001b[39mwhere(\n\u001b[1;32m     63\u001b[0m     events[\u001b[38;5;241m.\u001b[39m\u001b[38;5;241m.\u001b[39m\u001b[38;5;241m.\u001b[39m, \u001b[38;5;241m1\u001b[39m:], np\u001b[38;5;241m.\u001b[39mcumsum(shifted_events, axis\u001b[38;5;241m=\u001b[39m\u001b[38;5;241m-\u001b[39m\u001b[38;5;241m1\u001b[39m), \u001b[38;5;241m0\u001b[39m\n\u001b[1;32m     64\u001b[0m )\n\u001b[0;32m---> 65\u001b[0m labelled_events[\u001b[38;5;241m.\u001b[39m\u001b[38;5;241m.\u001b[39m\u001b[38;5;241m.\u001b[39m, \u001b[38;5;241m1\u001b[39m:] \u001b[38;5;241m=\u001b[39m labelled_events[\u001b[38;5;241m.\u001b[39m\u001b[38;5;241m.\u001b[39m\u001b[38;5;241m.\u001b[39m, \u001b[38;5;241m1\u001b[39m:] \u001b[38;5;241m-\u001b[39m label_correction\n\u001b[1;32m     67\u001b[0m \u001b[38;5;66;03m# Loop over all events and compute the minimum x\u001b[39;00m\n\u001b[1;32m     68\u001b[0m max_events \u001b[38;5;241m=\u001b[39m np\u001b[38;5;241m.\u001b[39mmax(labelled_events)\n",
      "File \u001b[0;32m/datasets/work/oa-dcfp/work/squ027/.conda/envs/forecast_analysis/lib/python3.9/site-packages/dask/array/core.py:1828\u001b[0m, in \u001b[0;36mArray.__setitem__\u001b[0;34m(self, key, value)\u001b[0m\n\u001b[1;32m   1825\u001b[0m value \u001b[38;5;241m=\u001b[39m asanyarray(value)\n\u001b[1;32m   1827\u001b[0m out \u001b[38;5;241m=\u001b[39m \u001b[38;5;124m\"\u001b[39m\u001b[38;5;124msetitem-\u001b[39m\u001b[38;5;124m\"\u001b[39m \u001b[38;5;241m+\u001b[39m tokenize(\u001b[38;5;28mself\u001b[39m, key, value)\n\u001b[0;32m-> 1828\u001b[0m dsk \u001b[38;5;241m=\u001b[39m \u001b[43msetitem_array\u001b[49m\u001b[43m(\u001b[49m\u001b[43mout\u001b[49m\u001b[43m,\u001b[49m\u001b[43m \u001b[49m\u001b[38;5;28;43mself\u001b[39;49m\u001b[43m,\u001b[49m\u001b[43m \u001b[49m\u001b[43mkey\u001b[49m\u001b[43m,\u001b[49m\u001b[43m \u001b[49m\u001b[43mvalue\u001b[49m\u001b[43m)\u001b[49m\n\u001b[1;32m   1830\u001b[0m meta \u001b[38;5;241m=\u001b[39m meta_from_array(\u001b[38;5;28mself\u001b[39m\u001b[38;5;241m.\u001b[39m_meta)\n\u001b[1;32m   1831\u001b[0m \u001b[38;5;28;01mif\u001b[39;00m np\u001b[38;5;241m.\u001b[39misscalar(meta):\n",
      "File \u001b[0;32m/datasets/work/oa-dcfp/work/squ027/.conda/envs/forecast_analysis/lib/python3.9/site-packages/dask/array/slicing.py:2066\u001b[0m, in \u001b[0;36msetitem_array\u001b[0;34m(out_name, array, indices, value)\u001b[0m\n\u001b[1;32m   2061\u001b[0m v_key \u001b[38;5;241m=\u001b[39m \u001b[38;5;28mnext\u001b[39m(flatten(v\u001b[38;5;241m.\u001b[39m__dask_keys__()))\n\u001b[1;32m   2063\u001b[0m \u001b[38;5;66;03m# Insert into the output dask dictionary the dask of the part\u001b[39;00m\n\u001b[1;32m   2064\u001b[0m \u001b[38;5;66;03m# of assignment value for this block (not minding when we\u001b[39;00m\n\u001b[1;32m   2065\u001b[0m \u001b[38;5;66;03m# overwrite any existing keys as the values will be the same).\u001b[39;00m\n\u001b[0;32m-> 2066\u001b[0m dsk \u001b[38;5;241m=\u001b[39m merge(\u001b[38;5;28;43mdict\u001b[39;49m\u001b[43m(\u001b[49m\u001b[43mv\u001b[49m\u001b[38;5;241;43m.\u001b[39;49m\u001b[43mdask\u001b[49m\u001b[43m)\u001b[49m, dsk)\n\u001b[1;32m   2068\u001b[0m \u001b[38;5;66;03m# Define the assignment function for this block.\u001b[39;00m\n\u001b[1;32m   2069\u001b[0m dsk[out_key] \u001b[38;5;241m=\u001b[39m (setitem, in_key, v_key, block_indices)\n",
      "File \u001b[0;32m/datasets/work/oa-dcfp/work/squ027/.conda/envs/forecast_analysis/lib/python3.9/site-packages/dask/highlevelgraph.py:729\u001b[0m, in \u001b[0;36mHighLevelGraph.__getitem__\u001b[0;34m(self, key)\u001b[0m\n\u001b[1;32m    727\u001b[0m         \u001b[38;5;28;01mreturn\u001b[39;00m d[key]\n\u001b[1;32m    728\u001b[0m     \u001b[38;5;28;01mexcept\u001b[39;00m \u001b[38;5;167;01mKeyError\u001b[39;00m:\n\u001b[0;32m--> 729\u001b[0m         \u001b[38;5;28;01mpass\u001b[39;00m\n\u001b[1;32m    731\u001b[0m \u001b[38;5;28;01mraise\u001b[39;00m \u001b[38;5;167;01mKeyError\u001b[39;00m(key)\n",
      "\u001b[0;31mKeyboardInterrupt\u001b[0m: "
     ]
    }
   ],
   "source": [
    "%%time\n",
    "\n",
    "prep_data = True\n",
    "\n",
    "if prep_data:\n",
    "    DF = calculate_drought_factor(\n",
    "        KBDI[\"KBDI\"],\n",
    "        precip[\"precip\"],\n",
    "        limiting_function=\"xlim\",\n",
    "    ).to_dataset()\n",
    "\n",
    "#     DF.to_zarr(\"agcd_DF.zarr\", mode=\"w\")\n",
    "\n",
    "# DF = xr.open_zarr(\"agcd_DF.zarr\")"
   ]
  },
  {
   "cell_type": "code",
   "execution_count": null,
   "id": "ab821265-f071-44b5-9bf0-5434c4713f50",
   "metadata": {},
   "outputs": [],
   "source": []
  }
 ],
 "metadata": {
  "kernelspec": {
   "display_name": "Python (forecast analysis)",
   "language": "python",
   "name": "forecast_analysis"
  },
  "language_info": {
   "codemirror_mode": {
    "name": "ipython",
    "version": 3
   },
   "file_extension": ".py",
   "mimetype": "text/x-python",
   "name": "python",
   "nbconvert_exporter": "python",
   "pygments_lexer": "ipython3",
   "version": "3.9.10"
  }
 },
 "nbformat": 4,
 "nbformat_minor": 5
}
