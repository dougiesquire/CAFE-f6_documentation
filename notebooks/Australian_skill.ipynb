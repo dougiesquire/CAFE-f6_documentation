{
 "cells": [
  {
   "cell_type": "markdown",
   "id": "c3e86725-1ce2-4071-afc9-e849b4b67834",
   "metadata": {},
   "source": [
    "# Australian forecast skill\n",
    "\n",
    "This notebook contains plots showing the skill of quantities averaged over the Natural Resource Management (NRM) super-cluster regions (see https://www.climatechangeinaustralia.gov.au/en/overview/methodology/nrm-regions/). As for the generic skill results, plots are shown for CAFE-f6 and for the CanESM5 and EC-Earth3 CMIP6 DCPP submissions. 30-year climatological and verification periods are used for both the CAFE-f6 and CMIP6 data. However, because the historical CMIP6 data end in 2014, these periods differ slightly: 1991-2020 for CAFE-f6; 1985-2014 for CanESM5 and EC-Earth3. Note also that the CanESM5 hindcasts are initialised at the end of December every year, while the CAFE-f6 and EC-Earth3 hindcasts are initialised at the beginning of November every year.\n",
    "\n",
    "Significant points (as identified by a non-parametric block bootstrapping procedure) are shown by filled circles for the line plots.\n",
    "\n",
    "If you wish to see anything added to these results, please contact Dougie."
   ]
  },
  {
   "cell_type": "code",
   "execution_count": null,
   "id": "d7fbc413-2c6c-46a0-8d3e-e31e693553f8",
   "metadata": {},
   "outputs": [],
   "source": [
    "import numpy as np\n",
    "\n",
    "import xarray as xr\n",
    "\n",
    "import matplotlib.pyplot as plt\n",
    "\n",
    "import warnings\n",
    "\n",
    "warnings.filterwarnings(\"ignore\")\n",
    "\n",
    "import geopandas\n",
    "\n",
    "from src import plot"
   ]
  },
  {
   "cell_type": "code",
   "execution_count": null,
   "id": "b29fc579-9245-4906-81e3-cef9ea26cdc9",
   "metadata": {},
   "outputs": [],
   "source": [
    "%load_ext autoreload\n",
    "%autoreload 2\n",
    "%load_ext lab_black"
   ]
  },
  {
   "cell_type": "code",
   "execution_count": null,
   "id": "b4fe2f43-8aa5-4c86-910d-6633e7e1b288",
   "metadata": {},
   "outputs": [],
   "source": [
    "def plot_metrics(\n",
    "    hindcasts,\n",
    "    reference,\n",
    "    timescales,\n",
    "    variable,\n",
    "    metrics,\n",
    "    verif_period=None,\n",
    "):\n",
    "    \"\"\"\n",
    "    Helper function for plotting some skill metrics.\n",
    "    \"\"\"\n",
    "\n",
    "    def _load_skill_metric(\n",
    "        hindcast, reference, timescale, variable, metric, verif_period=None\n",
    "    ):\n",
    "        \"\"\"Load a skill metric\"\"\"\n",
    "        SKILL_DIR = \"../data/skill/\"\n",
    "        if hindcast == \"CAFEf6\":\n",
    "            anom_period = \"1991-2020\"\n",
    "        else:\n",
    "            anom_period = \"1985-2014\"\n",
    "        if verif_period is None:\n",
    "            verif_period = anom_period\n",
    "        file = (\n",
    "            f\"{SKILL_DIR}/{hindcast}.{reference}.{timescale}.anom_{anom_period}\"\n",
    "            f\".{variable}_Aus_NRM.{metric}_{verif_period}.zarr\"\n",
    "        )\n",
    "        return xr.open_zarr(file).compute()\n",
    "\n",
    "    regions = [\n",
    "        \"Northern Australia\",\n",
    "        \"Rangelands\",\n",
    "        \"Eastern Australia\",\n",
    "        \"Southern Australia\",\n",
    "        \"Australia\",\n",
    "    ]\n",
    "\n",
    "    panels = []\n",
    "    headings = []\n",
    "    for region in regions:\n",
    "        row_list = []\n",
    "        for timescale in timescales:\n",
    "            metric_dict = {}\n",
    "            for hindcast in hindcasts:\n",
    "                model_metrics = {}\n",
    "                for metric in metrics:\n",
    "                    try:\n",
    "                        model_metrics[metric] = _load_skill_metric(\n",
    "                            hindcast,\n",
    "                            reference,\n",
    "                            timescale,\n",
    "                            f\"{variable}\",\n",
    "                            metric,\n",
    "                            verif_period,\n",
    "                        ).sel(region=region)\n",
    "                    except:\n",
    "                        pass\n",
    "                metric_dict[hindcast] = model_metrics\n",
    "            row_list.append(metric_dict)\n",
    "        panels.append(row_list)\n",
    "        headings.append([f\"{region}, {timescale}\" for timescale in timescales])\n",
    "    return plot.metrics(panels, variable, headings, figsize=(9, 12))"
   ]
  },
  {
   "cell_type": "markdown",
   "id": "0affee41-a7b1-4dca-a883-ac4646fc4e82",
   "metadata": {},
   "source": [
    "## Focus regions\n",
    "In the following we'll show some skill results for the following NRM super clusters and for the average over all of Australia"
   ]
  },
  {
   "cell_type": "code",
   "execution_count": null,
   "id": "38a4865f-3971-4bb0-83b6-888a7bdbca7d",
   "metadata": {},
   "outputs": [],
   "source": [
    "fig, ax = plt.subplots(1, 1, figsize=(8, 8))\n",
    "df = geopandas.read_file(\"../data/raw/NRM_super_clusters/NRM_super_clusters.shp\")\n",
    "_ = df.plot(\"label\", ax=ax, legend=True, legend_kwds={\"loc\": \"lower left\"})"
   ]
  },
  {
   "cell_type": "markdown",
   "id": "90a10c94-3978-400c-9c96-7c104b13c08c",
   "metadata": {},
   "source": [
    "## Near-surface (2m) temperature relative to JRA55"
   ]
  },
  {
   "cell_type": "markdown",
   "id": "a95d2947-dd1a-478e-8c4e-096bf0485902",
   "metadata": {},
   "source": [
    "### Anomaly correlation coefficient"
   ]
  },
  {
   "cell_type": "code",
   "execution_count": null,
   "id": "1087e89b-c108-4f75-9933-75b9c6cf2bee",
   "metadata": {},
   "outputs": [],
   "source": [
    "_ = plot_metrics(\n",
    "    [\"CAFEf6\", \"CanESM5\", \"EC_Earth3\"],\n",
    "    \"JRA55\",\n",
    "    [\"annual\", \"4-year\"],\n",
    "    \"t_ref\",\n",
    "    [\"rXY\", \"ri\"],\n",
    ")"
   ]
  },
  {
   "cell_type": "markdown",
   "id": "0bf25645-ee5b-4653-b144-3095e29caed0",
   "metadata": {},
   "source": [
    "### Mean squared skill score relative to historical simulations"
   ]
  },
  {
   "cell_type": "code",
   "execution_count": null,
   "id": "e6409c8b-4711-4062-91bd-6da4c93afc59",
   "metadata": {},
   "outputs": [],
   "source": [
    "_ = plot_metrics(\n",
    "    [\"CAFEf6\", \"CanESM5\", \"EC_Earth3\"],\n",
    "    \"JRA55\",\n",
    "    [\"annual\", \"4-year\"],\n",
    "    \"t_ref\",\n",
    "    [\"MSSS\"],\n",
    ")"
   ]
  },
  {
   "cell_type": "markdown",
   "id": "13edce08-8657-43bb-ba6d-723b0a75a36e",
   "metadata": {},
   "source": [
    "### Rank probability skill score relative to historical simulations"
   ]
  },
  {
   "cell_type": "code",
   "execution_count": null,
   "id": "47e91b22-7447-4769-b777-cb64b5b5c2b6",
   "metadata": {},
   "outputs": [],
   "source": [
    "_ = plot_metrics(\n",
    "    [\"CAFEf6\", \"CanESM5\", \"EC_Earth3\"],\n",
    "    \"JRA55\",\n",
    "    [\"annual\", \"4-year\"],\n",
    "    \"t_ref\",\n",
    "    [\"CRPSS\"],\n",
    ")"
   ]
  },
  {
   "cell_type": "markdown",
   "id": "4788d28c-a97c-478a-8117-71d8aeddd928",
   "metadata": {},
   "source": [
    "## Precipitation relative to AGCD"
   ]
  },
  {
   "cell_type": "markdown",
   "id": "a492f5eb-c767-4462-ad3f-b80c7ed47b20",
   "metadata": {},
   "source": [
    "### Anomaly correlation coefficient"
   ]
  },
  {
   "cell_type": "code",
   "execution_count": null,
   "id": "c1e75049-f4aa-40c6-b17d-5df30d901f2a",
   "metadata": {},
   "outputs": [],
   "source": [
    "_ = plot_metrics(\n",
    "    [\"CAFEf6\", \"CanESM5\", \"EC_Earth3\"],\n",
    "    \"AGCD\",\n",
    "    [\"annual\", \"4-year\"],\n",
    "    \"precip\",\n",
    "    [\"rXY\", \"ri\"],\n",
    ")"
   ]
  },
  {
   "cell_type": "markdown",
   "id": "e1068267-82df-420a-a76c-9e2ceafcd404",
   "metadata": {},
   "source": [
    "### Mean squared skill score relative to historical simulations"
   ]
  },
  {
   "cell_type": "code",
   "execution_count": null,
   "id": "eaa4c6e6-0ef5-4de0-a59c-10f9717e8d7a",
   "metadata": {},
   "outputs": [],
   "source": [
    "_ = plot_metrics(\n",
    "    [\"CAFEf6\", \"CanESM5\", \"EC_Earth3\"],\n",
    "    \"AGCD\",\n",
    "    [\"annual\", \"4-year\"],\n",
    "    \"precip\",\n",
    "    [\"MSSS\"],\n",
    ")"
   ]
  },
  {
   "cell_type": "markdown",
   "id": "5295d64f-4382-4c15-89be-1a5ba2cc7cf2",
   "metadata": {},
   "source": [
    "### Rank probability skill score relative to historical simulations"
   ]
  },
  {
   "cell_type": "code",
   "execution_count": null,
   "id": "1be38ed0-dfa4-4f36-8f46-2028a3e4047a",
   "metadata": {},
   "outputs": [],
   "source": [
    "_ = plot_metrics(\n",
    "    [\"CAFEf6\", \"CanESM5\", \"EC_Earth3\"],\n",
    "    \"AGCD\",\n",
    "    [\"annual\", \"4-year\"],\n",
    "    \"precip\",\n",
    "    [\"CRPSS\"],\n",
    ")"
   ]
  },
  {
   "cell_type": "markdown",
   "id": "4f8539ff-d510-4397-9355-83b902b3e2b7",
   "metadata": {},
   "source": [
    "## Near-surface (10m) wind relative to JRA55"
   ]
  },
  {
   "cell_type": "markdown",
   "id": "42a51b0f-1afa-413e-974a-4bbf9fc35b8f",
   "metadata": {},
   "source": [
    "### Anomaly correlation coefficient"
   ]
  },
  {
   "cell_type": "code",
   "execution_count": null,
   "id": "d040c069-97ea-43cc-8ca9-9c3a9a1e5fc3",
   "metadata": {},
   "outputs": [],
   "source": [
    "_ = plot_metrics(\n",
    "    [\"CAFEf6\"],\n",
    "    \"JRA55\",\n",
    "    [\"annual\", \"4-year\"],\n",
    "    \"V_tot\",\n",
    "    [\"rXY\", \"ri\"],\n",
    ")"
   ]
  },
  {
   "cell_type": "markdown",
   "id": "4bbbc742-c32a-4869-be55-fe312a29af17",
   "metadata": {},
   "source": [
    "### Mean squared skill score relative to historical simulations"
   ]
  },
  {
   "cell_type": "code",
   "execution_count": null,
   "id": "5e682cc4-b2a2-4ce7-a5b3-e811a4e26868",
   "metadata": {},
   "outputs": [],
   "source": [
    "_ = plot_metrics(\n",
    "    [\"CAFEf6\"],\n",
    "    \"JRA55\",\n",
    "    [\"annual\", \"4-year\"],\n",
    "    \"V_tot\",\n",
    "    [\"MSSS\"],\n",
    ")"
   ]
  },
  {
   "cell_type": "markdown",
   "id": "558387df-44a5-4567-81b4-cfbefe00bb85",
   "metadata": {},
   "source": [
    "### Rank probability skill score relative to historical simulations"
   ]
  },
  {
   "cell_type": "code",
   "execution_count": null,
   "id": "b330d4a6-d6e4-41e0-bf1e-cef1e83edc44",
   "metadata": {},
   "outputs": [],
   "source": [
    "_ = plot_metrics(\n",
    "    [\"CAFEf6\"],\n",
    "    \"JRA55\",\n",
    "    [\"annual\", \"4-year\"],\n",
    "    \"V_tot\",\n",
    "    [\"CRPSS\"],\n",
    ")"
   ]
  }
 ],
 "metadata": {
  "kernelspec": {
   "display_name": "Python (forecast_analysis)",
   "language": "python",
   "name": "forecast_analysis"
  },
  "language_info": {
   "codemirror_mode": {
    "name": "ipython",
    "version": 3
   },
   "file_extension": ".py",
   "mimetype": "text/x-python",
   "name": "python",
   "nbconvert_exporter": "python",
   "pygments_lexer": "ipython3",
   "version": "3.9.10"
  }
 },
 "nbformat": 4,
 "nbformat_minor": 5
}
