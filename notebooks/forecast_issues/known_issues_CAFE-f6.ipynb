{
 "cells": [
  {
   "cell_type": "markdown",
   "id": "8909e1f0-539d-446e-ae94-c859c6652f6c",
   "metadata": {},
   "source": [
    "# Known issues with CAFE-f6\n",
    "\n",
    "While spinning up this project, I discovered a number of issues with the CAFE-f6 forecasts that must be contended with when assessing the hindcasts.\n",
    "\n",
    "These issues are breifly described/demonstrated in this notebook"
   ]
  },
  {
   "cell_type": "markdown",
   "id": "d4763cca-c3d8-4140-80d1-78ab0c4af3ea",
   "metadata": {},
   "source": [
    "## Change in CAFE60v1 bias correction scheme in 1992\n",
    "\n",
    "The bias correction scheme used for CAFE60v1 (which provides the CAFE-f6 initial conditions) was changed at the beginning of 1992 (or thereabouts). From `O’Kane, T. J., Sandery, P. A., Kitsios, V., Sakov, P., Chamberlain, M. A., Collier, M. A., Fiedler, R., Moore, T. S., Chapman, C. C., Sloyan, B. M., & Matear, R. J. (2021). CAFE60v1: A 60-Year Large Ensemble Climate Reanalysis. Part I: System Design, Model Configuration, and Data Assimilation, Journal of Climate, 34(13), 5153-5169`:\n",
    "\n",
    "\"Prior to 1992, sea surface temperature (SST) is bias corrected using the method of Evensen (2003, section 4.2.2 therein) (see also O’Kane et al. 2019; Sandery et al. 2020). To estimate the SST bias field, an ensemble of bias fields is initialized to independently identically distributed random spatially uniform values and the observed SST is then assumed to be the sum of the model SST and unknown bias. This field is then updated similar to other model fields and the resulting ensemble of biases is evolved using a first-order autoregressive function [see paper for details]. Further, the SST bias influences subsurface temperature in the mixed layer, and therefore affects innovations from subsurface observations. Bias correction in this form can only detect and correct systematic errors in the initial conditions. Due to the relatively long assimilation window (calendar month), model SST bias was found to grow appreciably with lead time in particular regions and very specifically the South Pacific Ocean during the austral summer. Application of weak (90-day time scale) restoring to an SST climatology constructed from HadISST was applied to the forward model post 1992 to ameliorate the biases replacing the method of Evensen (2003).\"\n",
    "\n",
    "This change has a noticable impact on the CAFE-f6 forecasts, with forecasts initialised prior to 1992 demonstrating different behaviour than those initialised after 1992."
   ]
  },
  {
   "cell_type": "code",
   "execution_count": null,
   "id": "69bcd0fb-e408-4e7a-8e82-0cf51ab9c922",
   "metadata": {},
   "outputs": [],
   "source": []
  }
 ],
 "metadata": {
  "kernelspec": {
   "display_name": "Python (forecast_analysis)",
   "language": "python",
   "name": "forecast_analysis"
  },
  "language_info": {
   "codemirror_mode": {
    "name": "ipython",
    "version": 3
   },
   "file_extension": ".py",
   "mimetype": "text/x-python",
   "name": "python",
   "nbconvert_exporter": "python",
   "pygments_lexer": "ipython3",
   "version": "3.9.10"
  }
 },
 "nbformat": 4,
 "nbformat_minor": 5
}
