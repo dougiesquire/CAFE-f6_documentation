{
 "cells": [
  {
   "cell_type": "markdown",
   "id": "8909e1f0-539d-446e-ae94-c859c6652f6c",
   "metadata": {},
   "source": [
    "# Issues with CAFE-f6\n",
    "\n",
    "While spinning up this project, I discovered a number of issues with the CAFE-f6 forecasts that must be contended with when assessing the hindcasts.\n",
    "\n",
    "These issues are breifly described/demonstrated in this notebook."
   ]
  },
  {
   "cell_type": "markdown",
   "id": "15f60753-e874-4650-ae48-5c3fa93b5c06",
   "metadata": {
    "tags": []
   },
   "source": [
    "## 1. Application of forcing\n",
    "\n",
    "Some of the forcing fields in the CAFE-f6 forecasts are applied in a way that is different that the CMIP DCPP recomendations. Principally, a number of the forcing fields switch from time-varying to fixed based on the *initialisation date* of the forecasts. **This means that the same calendar year can experience different forcing, depending on its lead time.** For example (see below), The lead 2 year forecast of 2002 (initialised 2000) will be forced with 2002 volcanic forcing, but the lead 1 forecast of 2002 (initialised 2001) will be forced with 2008 forcing. This could make the forecasts difficult to interpret and baseline."
   ]
  },
  {
   "cell_type": "markdown",
   "id": "6e269d83-9eb7-4cbb-8859-67ce71d7eb88",
   "metadata": {},
   "source": [
    "The relevant lines that specify the forcing in the CAFE-f6 model namelist (see https://github.com/csiro-dcfp/cm-forecasts/blob/fb22ae161bfce6803435c0d10fa74a9d49e4bffc/ref/MODEL/input.in) are:\n",
    "\n",
    "```\n",
    " &aerosol_nml\n",
    "    use_aerosol_timeseries = .false.\n",
    "    aerosol_dataset_entry =  INPUT_AEROSOL_TIME,\n",
    "                             INPUT_AEROSOL_TIME,\n",
    "                             INPUT_AEROSOL_TIME,\n",
    "                             INPUT_AEROSOL_TIME,\n",
    "                             INPUT_AEROSOL_TIME,\n",
    "                             INPUT_AEROSOL_TIME,\n",
    "                             INPUT_AEROSOL_TIME,\n",
    "                             INPUT_AEROSOL_TIME,\n",
    "                             INPUT_AEROSOL_TIME,\n",
    "                             INPUT_AEROSOL_TIME,\n",
    "                             INPUT_AEROSOL_TIME,\n",
    "                             INPUT_AEROSOL_TIME,\n",
    "    family_names = \"small_dust\", \"large_dust\", \"sulfate\", \"aerosol\"\n",
    "    in_family1 = F,F,F,F,T,T,T,T,T,F,F,F,\n",
    "    in_family2 = F,F,F,F,F,F,F,F,F,T,T,T,\n",
    "    in_family3 = T,F,F,F,F,F,F,F,F,F,F,F,\n",
    "    in_family4 = T,T,T,T,T,T,T,T,T,T,T,T,\n",
    "    data_names = \"so4\", \"organic_carbon\", \"black_carbon\", \"sea_salt\",\n",
    "                 \"dust_0.1\", \"dust_0.2\", \"dust_0.4\", \"dust_0.8\",\n",
    "                 \"dust_1.0\", \"dust_2.0\", \"dust_4.0\", \"dust_8.0\",\n",
    "    filename = \"aerosol.climatology.nc\"\n",
    "/\n",
    " &aerosolrad_package_nml\n",
    "    volcanic_dataset_entry = 1, 1, 1, 0, 0, 0,\n",
    "    REPEAT_VOLCANO_YEAR\n",
    "    VOLCANO_YEAR_USED\n",
    "    using_volcanic_lw_files = .false.,\n",
    "    lw_ext_filename = \"             \"\n",
    "    lw_ext_root = \"     \"\n",
    "    lw_asy_filename = \"             \"\n",
    "    lw_asy_root = \"     \"\n",
    "    lw_ssa_filename = \"             \"\n",
    "    lw_ssa_root = \"     \"\n",
    "    using_volcanic_sw_files = .true.,\n",
    "    sw_ext_filename = \"extsw_data.nc\"\n",
    "    sw_ext_root = \"extsw\"\n",
    "    sw_ssa_filename = \"omgsw_data.nc\"\n",
    "    sw_ssa_root = \"omgsw\"\n",
    "    sw_asy_filename = \"asmsw_data.nc\"\n",
    "    sw_asy_root = \"asmsw\"\n",
    "    do_lwaerosol = .true.,\n",
    "    do_swaerosol = .true.,\n",
    "    aerosol_data_set = 'shettle_fenn',\n",
    "    optical_filename = \"aerosol.optical.dat\",\n",
    "    aerosol_optical_names = \"sulfate_30%\", \"sulfate_35%\", \"sulfate_40%\", \"sulfate_45%\",\n",
    "                            \"sulfate_50%\", \"sulfate_55%\", \"sulfate_60%\", \"sulfate_65%\",\n",
    "                            \"sulfate_70%\", \"sulfate_75%\", \"sulfate_80%\", \"sulfate_82%\",\n",
    "                            \"sulfate_84%\", \"sulfate_86%\", \"sulfate_88%\", \"sulfate_90%\",\n",
    "                            \"sulfate_91%\", \"sulfate_92%\", \"sulfate_93%\", \"sulfate_94%\",\n",
    "                            \"sulfate_95%\", \"sulfate_96%\", \"sulfate_97%\", \"sulfate_98%\",\n",
    "                            \"sulfate_99%\", \"sulfate_100%\",\"organic_carbon\",\"soot\",\n",
    "                            \"sea_salt\",    \"dust_0.1\",    \"dust_0.2\",    \"dust_0.4\",\n",
    "                            \"dust_0.8\",    \"dust_1.0\",    \"dust_2.0\",    \"dust_4.0\",\n",
    "                            \"dust_8.0\"\n",
    ".\n",
    ".\n",
    ".\n",
    "&ozone_nml\n",
    "    BASIC_OZONE_TYPE\n",
    "    OZONE_DATASET_ENTRY\n",
    "    data_name = \"ozone\",\n",
    "    FILENAME\n",
    ".\n",
    ".\n",
    ".\n",
    " &radiation_driver_nml\n",
    "       rad_time_step= 10800,\n",
    "       time_varying_solar_constant = .false.,\n",
    "       solar_dataset_entry = 1990,1,1,0,0,0,\n",
    "       rad_package = 'sea_esf',\n",
    "       do_clear_sky_pass=.true.,\n",
    "       calc_hemi_integrals = .false.,\n",
    "       renormalize_sw_fluxes=.true.,\n",
    "       all_step_diagnostics = .true.,\n",
    "       zenith_spec = 'diurnally_varying'\n",
    "       using_restart_file = .false.\n",
    "/\n",
    " &radiative_gases_nml\n",
    "       verbose = 3\n",
    "       gas_printout_freq = 240\n",
    "       time_varying_co2 = .true.,\n",
    "       co2_variation_type = 'linear',\n",
    "       co2_specification_type = 'time_series',\n",
    "       co2_floor = 100.0E-06,\n",
    "       co2_ceiling = 1600.0E-06,\n",
    "       co2_data_source = 'input'\n",
    "       time_varying_ch4 = .true.,\n",
    "       ch4_variation_type = 'linear'\n",
    "       ch4_specification_type = 'time_series'\n",
    "       ch4_data_source = 'input'\n",
    "       time_varying_n2o = .true.,\n",
    "       n2o_variation_type = 'linear'\n",
    "       n2o_specification_type = 'time_series'\n",
    "       n2o_data_source = 'input'\n",
    "       time_varying_f11 = .true.,\n",
    "       f11_variation_type = 'linear'\n",
    "       f11_specification_type = 'time_series'\n",
    "       f11_data_source = 'input'\n",
    "       time_varying_f12 = .true.,\n",
    "       f12_variation_type = 'linear'\n",
    "       f12_specification_type = 'time_series'\n",
    "       f12_data_source = 'input'\n",
    "       time_varying_f113 = .true.,\n",
    "       f113_variation_type = 'linear'\n",
    "       f113_specification_type = 'time_series'\n",
    "       f113_data_source = 'input'\n",
    "       time_varying_f22 = .true.,\n",
    "       f22_variation_type = 'linear'\n",
    "       f22_specification_type = 'time_series'\n",
    "       f22_data_source = 'input'\n",
    "```\n",
    "\n",
    "where the following replacements are made before submission (see https://github.com/csiro-dcfp/cm-forecasts/blob/fb22ae161bfce6803435c0d10fa74a9d49e4bffc/src/run_CAFE_forecasts.sh.in):\n",
    "\n",
    "- Replace\n",
    " \n",
    "  ```\n",
    "  INPUT_AEROSOL_TIME -> \"AYEAR, 1, 1, 0, 0, 0\"\n",
    "  ```\n",
    "   \n",
    "  where AYEAR is the middle year of the decade in which the forecast is initialised (e.g. AYEAR=2005 for any start date in the 2000s). If AYEAR is greater than 2015, then 2015 is used.\n",
    "   \n",
    "- If the forecast is initialised after 2000 then replace,\n",
    " \n",
    "  ```\n",
    "  REPEAT_VOLCANO_YEAR -> \"repeat_volcano_year=.true.\"\n",
    "  VOLCANO_YEAR_USED -> \"volcano_year_used = 2008,\"\n",
    "  ```\n",
    "   \n",
    "  otherwise these lines are commented out.\n",
    "   \n",
    "- If the forecast is initialised after 2004 then replace,\n",
    "\n",
    "  ```\n",
    "  BASIC_OZONE_TYPE -> \"fixed_year\"\n",
    "  OZONE_DATASET_ENTRY -> \"ozone_dataset_entry=2014, 1, 1, 0, 0, 0,\"\n",
    "  FILENAME -> \"cm3_2014_o3.padded.nc\"\n",
    "  ```\n",
    "   \n",
    "  otherwise replace,\n",
    "   \n",
    "  ```\n",
    "  BASIC_OZONE_TYPE -> \"time_varying\"\n",
    "  FILENAME -> \"CM3_CMIP6_1950-2014_O3.nc\"\n",
    "  ```\n",
    "   \n",
    "  and `OZONE_DATASET_ENTRY` is commented out.\n",
    "   \n",
    "In addition, the following is added to the field table (see https://github.com/csiro-dcfp/cm-forecasts/blob/fb22ae161bfce6803435c0d10fa74a9d49e4bffc/ref/MODEL/field_table_bgc):\n",
    "\n",
    "- If the forecast is initialised after 2007 then,\n",
    "\n",
    "  ```\n",
    "  aco2_file = \"INPUT/co2_obs.padded.nc\"\n",
    "  ```\n",
    "   \n",
    "  otherwise,\n",
    "   \n",
    "  ```\n",
    "  aco2_file = \"INPUT/co2_obs.nc\"\n",
    "  ```\n",
    "\n",
    "I've been told these files are used by the bgc component of the model. Notably, `co2_obs.padded.nc` includes projected values into the future, but both files are identical in their overlapping period so the switch from co2_obs.nc to co2_obs.padded.nc seems to be redundant."
   ]
  },
  {
   "cell_type": "markdown",
   "id": "6930345d-eeb8-4f28-8525-df709e5de388",
   "metadata": {},
   "source": [
    "### So what does this mean?\n",
    "\n",
    "#### Aerosols climatologies\n",
    "\n",
    "Aerosol forcing climatologies are provided per decade. Forecasts initialised prior to 2020 are forced using the climatologies corresponding to the decade of their initialialisation (e.g. 2000s forcing climatologies for every forecast initialised in 2000-2009). Forecasts initialised in 2020 of later use the 2010s aerosol forcing climatologies.\n",
    "\n",
    "**However**, the aerosol climatologies provided are actually identical to the 2000s climatology for all decades after the 2000s."
   ]
  },
  {
   "cell_type": "markdown",
   "id": "6a2b4804-4522-421d-ac4d-5935075917ed",
   "metadata": {},
   "source": [
    "Therefore\n",
    "\n",
    "> <span style=\"color:red\">If initialised during or before 1999, we use the aerosol forcing climatologies corresponding to the decade of initialisation \\\n",
    "If initialised after 1999, we use the aerosol forcing climatologies for the 2000s </span>"
   ]
  },
  {
   "cell_type": "markdown",
   "id": "4779d014-9f41-4475-8c06-62e139e9c240",
   "metadata": {},
   "source": [
    "#### Volcanic forcing\n",
    "Time varying volcanic forcing is used for forecasts initialised prior to or during 2000, and 2008 volcanic forcing is used for those initialised after 2000.\n",
    "\n",
    "**However**, the time-varying volcanic forcing provided is actually identical to 1999-12 for all values after 1999-12"
   ]
  },
  {
   "cell_type": "markdown",
   "id": "c7a67081-cf55-46c2-92a7-53eb7fb017dd",
   "metadata": {},
   "source": [
    "Therefore\n",
    "\n",
    "> <span style=\"color:red\"> We use time varying volcanic forcing up until 1999-12, and then 1999-12 levels from 2000-01 onwards. (Because the forcing files don't actually change after 1999-12, the switch to 2008 forcing in our forecast scripts for initialisation dates after 2000 actually does nothing, other than to allow forecasts to be run beyond the maximum time of the forcing files, 2010-12).<span>"
   ]
  },
  {
   "cell_type": "markdown",
   "id": "003a36e8-f760-4684-9682-c776bd19e798",
   "metadata": {},
   "source": [
    "#### Ozone forcing\n",
    "Time varying ozone forcing is used for forecasts initialised prior to or during 2004, and 2014 ozone forcing is used for those initialised after 2004."
   ]
  },
  {
   "cell_type": "markdown",
   "id": "9b312ae6-d485-4208-8f2f-6847420ef0b4",
   "metadata": {},
   "source": [
    "Therefore\n",
    "\n",
    "> <span style=\"color:red\">If initialised during or before 2004, we use time varying monthly (CMIP6) ozone forcing \\\n",
    "If initialised after 2004, we use the 2014 ozone forcing <span>"
   ]
  },
  {
   "cell_type": "markdown",
   "id": "1191a2aa-f578-47b2-b677-f3b402f900c5",
   "metadata": {},
   "source": [
    "#### Solar forcing\n",
    "The namelist (see above) suggests that fixed 1990 solar forcing is applied for all forecasts."
   ]
  },
  {
   "cell_type": "markdown",
   "id": "11560448-025a-47db-94b7-2a87db25b248",
   "metadata": {},
   "source": [
    "#### Radiative gas forcing\n",
    "These are taken from the `*_gblannualdata` files (LINK) and are time varying regardless of forecast initialisation date."
   ]
  },
  {
   "cell_type": "markdown",
   "id": "325bcf29-0eac-47b6-896c-89ae9c97cfc6",
   "metadata": {},
   "source": [
    "Therefore\n",
    "\n",
    "> <span style=\"color:red\">We use time varying observed and projected radiative gas forcing out to 2110. However, it's not clear to me what scenario is used, or when the switch is made from observations to projections. It looks like `co2_gblannualdata` uses RCP4.5 and `co2_obs.padded.nc` uses RCP 8.5.</span>"
   ]
  },
  {
   "cell_type": "markdown",
   "id": "349f62b1-4177-4ab7-b9e5-488ef6c59176",
   "metadata": {},
   "source": [
    "### How are we inconsistent with CMIP6 DCPP?\n",
    "The CMIP6 docs (https://doi.org/10.5194/gmd-9-1937-2016) request historical forcings are based as far as possible on observations and cover the period 1850–2014:\n",
    "\n",
    ">The historical forcings are based as far as possible on observations and cover the period 1850–2014. These include:\\\n",
    "– emissions of short-lived species and long-lived greenhouse gases (GHGs),\\\n",
    "– GHG concentrations,\\\n",
    "– global gridded land-use forcing data sets,\\\n",
    "– solar forcing,\n",
    "– stratospheric aerosol data set (volcanoes),\\\n",
    "– AMIP sea surface temperatures (SSTs) and sea ice concentrations (SICs),\\\n",
    "– for simulations with prescribed aerosols, a new approach to prescribe aerosols in terms of optical properties and fractional change in cloud droplet effective radius to provide a more consistent representation of aerosol forcing, and\\\n",
    "– for models without ozone chemistry, time-varying gridded ozone concentrations and nitrogen deposition.\n",
    "\n",
    "Our,\n",
    " - **Aerosol climatology** data is just replicated from the 2000s onwards,\n",
    " - **Volcanic forcing** data is just replicated from 1999-12 onwards,\n",
    " - **Solar forcing** doesn't change\n",
    " \n",
    "so these aren't consistent with CMIP6 specifications...\n",
    "\n",
    "We appear to be using the CMIP6 **ozone forcing** data. But, I'm not sure we actually use it in a way consistent with the CMIP6 DCPP protocols (https://doi.org/10.5194/gmd-9-3751-2016) which states (Appendix A):\n",
    "\n",
    "> The A1 hindcast experiment parallels the corresponding CMIP5 decadal prediction experiment in using the same specified forcing as is used for the CMIP6 historical climate simulations. This forcing is also used for the historical simulations of experiment A2. For forecasts which extend beyond the period for which historical forcing is specified, the “medium” SSP2-4.5 forcing of ScenarioMIP (O’Neill et al., 2016) is used.\n",
    "\n",
    "and, from Table A1:\n",
    "\n",
    "> Prescribed CMIP6 historical values of atmospheric composition and/or emissions (and other conditions including volcanic aerosols). Future forcing as the SSP2-4.5 scenario.\n",
    "\n",
    "Does SSP2-4.5 provide ozone forcing? If so, our switch to 2014 forcing for forecasts initialised after 2004 goes against DCPP requests. If not, it's not clear to me what the DCPP expects one to do for future ozone.\n",
    "\n",
    "It's not clear to me whether or not we are using observed **raditive gas forcing** from CMIP6, but my hunch is that the `*_gblannualdata` files transition from observations to scenarios in 2000."
   ]
  },
  {
   "cell_type": "markdown",
   "id": "04b1ad1f-ac48-4d12-b142-426387609a87",
   "metadata": {},
   "source": [
    "#### How are we inconsistent with CMIP5?\n",
    "The CMIP5 docs (https://pcmdi.llnl.gov/mips/cmip5/docs/Taylor_CMIP5_design.pdf) request historical forcings are based as far as possible on observations and cover the period 1850–2005:\n",
    "> - All forcings should be included as observed values for past dates, with prescribed concentrations of well-mixed GHGs. The details should be the same as used in the CMIP5 historical (20th century) runs (see Table 3), with the same flexibility on the treatment of ozone and aerosol and the same specified observational datasets. Note that with the exception of experiment 1.3, aerosols from observed volcanic eruptions should be included in all of the simulations.\n",
    "\n",
    "where Table 3 gives:\n",
    "\n",
    "> for CMIP5 historical (1850 - at least 2005), impose changing conditions (consistent with observations), which may include atmospheric composition (including CO2), due to both anthropogenic and volcanic influences; solar forcing; emissions or concentrations of short-lived species and natural and anthropogenic aerosols or their precursors; land use)\n",
    "\n",
    "Also:\n",
    "\n",
    "> - For future dates, the RCP4.5 scenario should be used if possible. Specification of reactive species and aerosols will follow those used in the long-term projection runs (see Table 4). With the exception of experiment 1.4, assume that there are no volcanic eruptions in the future (i.e., after year 2009).\n",
    "> - Note the treatment of volcanic aerosol: observed values should be used for past dates, as per CMIP5, but values to be used after 2005 should be specified based on the assumption of no further volcanic eruptions. The model runs are thus configured to predict what will happen to climate, relative to the observed past, if no major eruptions take place, which is a possible outcome for a thirty year period.\n",
    "\n",
    "But as above, our,\n",
    " - **Aerosol climatology** data is just replicated from the 2000s onwards,\n",
    " - **Volcanic forcing** data is just replicated from 1999-12 onwards,\n",
    " - **Solar forcing** doesn't change\n",
    " \n",
    "so these aren't consistent with CMIP5 specifications either..."
   ]
  },
  {
   "cell_type": "markdown",
   "id": "d4763cca-c3d8-4140-80d1-78ab0c4af3ea",
   "metadata": {
    "tags": []
   },
   "source": [
    "## 2. Change in CAFE60v1 bias correction scheme in 1992\n",
    "\n",
    "The bias correction scheme used for CAFE60v1 (which provides the CAFE-f6 initial conditions) was changed at the beginning of 1992 (or thereabouts). From `O’Kane, T. J., Sandery, P. A., Kitsios, V., Sakov, P., Chamberlain, M. A., Collier, M. A., Fiedler, R., Moore, T. S., Chapman, C. C., Sloyan, B. M., & Matear, R. J. (2021). CAFE60v1: A 60-Year Large Ensemble Climate Reanalysis. Part I: System Design, Model Configuration, and Data Assimilation, Journal of Climate, 34(13), 5153-5169`:\n",
    "\n",
    "\"Prior to 1992, sea surface temperature (SST) is bias corrected using the method of Evensen (2003, section 4.2.2 therein) (see also O’Kane et al. 2019; Sandery et al. 2020). To estimate the SST bias field, an ensemble of bias fields is initialized to independently identically distributed random spatially uniform values and the observed SST is then assumed to be the sum of the model SST and unknown bias. This field is then updated similar to other model fields and the resulting ensemble of biases is evolved using a first-order autoregressive function [see paper for details]. Further, the SST bias influences subsurface temperature in the mixed layer, and therefore affects innovations from subsurface observations. Bias correction in this form can only detect and correct systematic errors in the initial conditions. Due to the relatively long assimilation window (calendar month), model SST bias was found to grow appreciably with lead time in particular regions and very specifically the South Pacific Ocean during the austral summer. Application of weak (90-day time scale) restoring to an SST climatology constructed from HadISST was applied to the forward model post 1992 to ameliorate the biases replacing the method of Evensen (2003).\"\n",
    "\n",
    "This change has a noticable impact on the CAFE-f6 forecasts, with forecasts initialised prior to 1992 demonstrating different behaviour than those initialised after 1992."
   ]
  },
  {
   "cell_type": "markdown",
   "id": "c29845ba-9418-4dc7-b9dc-b60ba52420d2",
   "metadata": {},
   "source": [
    "## 3. Changes to MOM executable"
   ]
  },
  {
   "cell_type": "code",
   "execution_count": null,
   "id": "3547d2f6-f0e6-4307-a06b-5f944884c212",
   "metadata": {},
   "outputs": [],
   "source": []
  }
 ],
 "metadata": {
  "kernelspec": {
   "display_name": "Python (forecast_analysis)",
   "language": "python",
   "name": "forecast_analysis"
  },
  "language_info": {
   "codemirror_mode": {
    "name": "ipython",
    "version": 3
   },
   "file_extension": ".py",
   "mimetype": "text/x-python",
   "name": "python",
   "nbconvert_exporter": "python",
   "pygments_lexer": "ipython3",
   "version": "3.9.10"
  }
 },
 "nbformat": 4,
 "nbformat_minor": 5
}
